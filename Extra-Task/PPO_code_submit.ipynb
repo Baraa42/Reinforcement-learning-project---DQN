{
  "nbformat": 4,
  "nbformat_minor": 0,
  "metadata": {
    "colab": {
      "name": "PPO code - submit.ipynb",
      "provenance": []
    },
    "kernelspec": {
      "name": "python3",
      "display_name": "Python 3"
    },
    "language_info": {
      "name": "python"
    }
  },
  "cells": [
    {
      "cell_type": "code",
      "execution_count": 1,
      "metadata": {
        "id": "dwNJkLNJ3HBV"
      },
      "outputs": [],
      "source": [
        "import numpy as np\n",
        "import matplotlib.pyplot as plt\n",
        "\n",
        "import torch\n",
        "import torch.nn as nn\n",
        "import torch.optim as optim\n",
        "from torch.distributions.categorical import Categorical\n",
        "\n",
        "import gym"
      ]
    },
    {
      "cell_type": "code",
      "source": [
        "device = torch.device('cuda' if torch.cuda.is_available() else 'cpu')"
      ],
      "metadata": {
        "id": "nX2lmcqk3UUK"
      },
      "execution_count": 2,
      "outputs": []
    },
    {
      "cell_type": "markdown",
      "source": [
        "[source](https://www.youtube.com/watch?v=HR8kQMTO8bk) followed for implementation."
      ],
      "metadata": {
        "id": "TBKcv1yHjWIX"
      }
    },
    {
      "cell_type": "code",
      "source": [
        "# Policy and value model\n",
        "class ActorCriticNetwork(nn.Module):\n",
        "    def __init__(self, obs_dim, action_dim):\n",
        "        super().__init__()\n",
        "\n",
        "        self.shared_layers = nn.Sequential(\n",
        "            nn.Linear(obs_dim, 64),\n",
        "            nn.ReLU(),\n",
        "            nn.Linear(64, 64),\n",
        "            nn.ReLU(),\n",
        "        )\n",
        "\n",
        "        self.policy_layers = nn.Sequential(\n",
        "            nn.Linear(64, 64),\n",
        "            nn.ReLU(),\n",
        "            nn.Linear(64, action_dim),\n",
        "        )\n",
        "\n",
        "        self.value_layers = nn.Sequential(\n",
        "            nn.Linear(64, 64),\n",
        "            nn.ReLU(),\n",
        "            nn.Linear(64, 1),\n",
        "        )\n",
        "\n",
        "    def policy(self, obs):\n",
        "        z = self.shared_layers(obs)\n",
        "        policy_logits = self.policy_layers(z)\n",
        "        return policy_logits\n",
        "\n",
        "    def value(self, obs):\n",
        "        z = self.shared_layers(obs)\n",
        "        value = self.value_layers(z)\n",
        "        return value\n",
        "\n",
        "    def forward(self, obs):\n",
        "        policy_logits = self.policy(obs)\n",
        "        value = self.value(obs)\n",
        "        return policy_logits, value\n",
        "\n"
      ],
      "metadata": {
        "id": "Ch_XXj-l3cJq"
      },
      "execution_count": 3,
      "outputs": []
    },
    {
      "cell_type": "code",
      "source": [
        "class PPOTrainer():\n",
        "    def __init__(self,\n",
        "                 actor_critic,\n",
        "                 ppo_clip_value=0.2,\n",
        "                 target_kl_div=0.02, # how far we want to get from the policy before stop doing updates\n",
        "                 max_policy_train_iters=80, # how much times to update the policy\n",
        "                 value_train_iters=80,  # how much times to update the value\n",
        "                 policy_lr=3e-4,\n",
        "                 value_lr=1e-3):\n",
        "        self.ac = actor_critic\n",
        "        self.ppo_clip_value = ppo_clip_value\n",
        "        self.target_kl_div = target_kl_div\n",
        "        self.max_policy_train_iters = max_policy_train_iters\n",
        "        self.value_train_iters = value_train_iters\n",
        "\n",
        "        policy_params = list(actor_critic.shared_layers.parameters()) + \\\n",
        "            list(actor_critic.policy_layers.parameters())\n",
        "        self.policy_optim = optim.Adam(policy_params, lr=policy_lr)\n",
        "\n",
        "        value_params = list(actor_critic.shared_layers.parameters()) + \\\n",
        "            list(actor_critic.value_layers.parameters())\n",
        "        self.value_optim = optim.Adam(value_params, lr=policy_lr)\n",
        "\n",
        "    def train_policy(self, obs, acts, old_log_probs, gaes):\n",
        "        for _ in range(self.max_policy_train_iters):\n",
        "            self.policy_optim.zero_grad()\n",
        "\n",
        "            new_logits = self.ac.policy(obs)\n",
        "            new_logits = Categorical(logits=new_logits)\n",
        "            new_log_probs = new_logits.log_prob(acts)\n",
        "\n",
        "            policy_ratio = torch.exp(new_log_probs - old_log_probs)\n",
        "            clipped_ratio = policy_ratio.clamp(\n",
        "                1 - self.ppo_clip_value,\n",
        "                1 + self.ppo_clip_value)\n",
        "            clipped_loss = clipped_ratio * gaes\n",
        "            full_loss = policy_ratio * gaes\n",
        "            policy_loss = -torch.min(full_loss, clipped_loss).mean()\n",
        "\n",
        "            policy_loss.backward()\n",
        "            self.policy_optim.step()\n",
        "            \n",
        "            kl_div = (old_log_probs - new_log_probs).mean()\n",
        "\n",
        "            if kl_div > self.target_kl_div:\n",
        "                break\n",
        "\n",
        "    def train_value(self, obs, returns):\n",
        "        for _ in range(self.value_train_iters):\n",
        "            self.value_optim.zero_grad()\n",
        "\n",
        "            values = self.ac.value(obs)\n",
        "            value_loss = (returns - values) ** 2\n",
        "            value_loss = value_loss.mean()\n",
        "\n",
        "            value_loss.backward()\n",
        "            self.value_optim.step()\n",
        "\n"
      ],
      "metadata": {
        "id": "QcTlat_YZqF7"
      },
      "execution_count": 4,
      "outputs": []
    },
    {
      "cell_type": "code",
      "source": [
        "def rollout(model, env, max_steps=1000):\n",
        "    '''\n",
        "    Performs a single rollout.\n",
        "    Returns training data in the shape (n_steps, obeservation_space)\n",
        "    and the cumulative reward.\n",
        "    '''\n",
        "    ### create data storage\n",
        "    train_data = [[], [], [], [], []] # obs, act, rew, gaes, act_log_probs\n",
        "    obs = env.reset()\n",
        "\n",
        "    ep_reward = 0\n",
        "    for _ in range(max_steps):\n",
        "        obs_t = torch.FloatTensor(np.asarray([obs])).to(device)\n",
        "        logits, val = model(obs_t)\n",
        "        act_distribution = Categorical(logits=logits)  # \n",
        "        act = act_distribution.sample() # sample action index with probabilities following logits distribution\n",
        "        act_log_prob = act_distribution.log_prob(act).item()\n",
        "\n",
        "        act, val = act.item(), val.item()\n",
        "        next_obs, reward, done, _ = env.step(act)\n",
        "\n",
        "\n",
        "        ## record data for training\n",
        "        for i, item in enumerate((obs, act, reward, val, act_log_prob)):\n",
        "            train_data[i].append(item)\n",
        "        \n",
        "        obs = next_obs\n",
        "        ep_reward += reward\n",
        "        if done:\n",
        "            break\n",
        "    \n",
        "\n",
        "\n",
        "    ## do train data filtering\n",
        "    train_data[3] = calculate_gaes(train_data[2], train_data[3])\n",
        "\n",
        "    train_data = [np.asarray(x) for x in train_data]\n",
        "\n",
        "    return train_data, ep_reward\n"
      ],
      "metadata": {
        "id": "hgmUDEIL34KG"
      },
      "execution_count": 5,
      "outputs": []
    },
    {
      "cell_type": "code",
      "source": [
        "# utilities\n",
        "def discount_rewards(rewards, gamma=0.99):\n",
        "    '''\n",
        "    Return discounted rewards based on the given rewards and gamma param.\n",
        "    '''\n",
        "    new_rewards = [float(rewards[-1])]\n",
        "    for i in reversed(range(len(rewards)-1)):\n",
        "        new_rewards.append(float(rewards[i] + gamma * new_rewards[-1]))\n",
        "    return np.array(new_rewards[::-1])\n",
        "\n",
        "\n",
        "def calculate_gaes(rewards, values, gamma=0.99, decay=0.97):\n",
        "    '''\n",
        "    Return the General Advantage Estimates from the given rewards and values\n",
        "    Paper: https://arxiv.org/pdf/1506.02438.pdf\n",
        "    '''\n",
        "    next_values = np.concatenate([values[1:], [0]])\n",
        "    deltas = [rew + gamma * next_val - val for rew, val, next_val in zip(rewards, values, next_values)]\n",
        "\n",
        "    gaes = [deltas[-1]]\n",
        "    for i in reversed(range(len(deltas)-1)):\n",
        "        gaes.append(deltas[i] + decay * gamma * gaes[-1])\n",
        "\n",
        "    return np.array(gaes[::-1])"
      ],
      "metadata": {
        "id": "awwNM6lmhavJ"
      },
      "execution_count": 6,
      "outputs": []
    },
    {
      "cell_type": "code",
      "source": [
        "env = gym.make('CartPole-v0')\n",
        "model = ActorCriticNetwork(env.observation_space.shape[0], env.action_space.n).to(device)\n",
        "train_data, reward = rollout(model, env)\n"
      ],
      "metadata": {
        "id": "ivc9_QDrS5ls"
      },
      "execution_count": 12,
      "outputs": []
    },
    {
      "cell_type": "code",
      "source": [
        "# instantiate PPO trainer\n",
        "ppo_trainer = PPOTrainer(\n",
        "    model,\n",
        "    target_kl_div=0.02,\n",
        "    max_policy_train_iters=40,\n",
        "    value_train_iters=40,\n",
        "    policy_lr=3e-4,\n",
        "    value_lr=1e-3,\n",
        ")\n"
      ],
      "metadata": {
        "id": "HHelMI-WyZby"
      },
      "execution_count": 13,
      "outputs": []
    },
    {
      "cell_type": "code",
      "source": [
        "# training params\n",
        "n_episodes = 2000\n",
        "print_freq = 20\n",
        "target_reward = 190"
      ],
      "metadata": {
        "id": "uV3EX85egGKY"
      },
      "execution_count": 14,
      "outputs": []
    },
    {
      "cell_type": "code",
      "source": [
        "# training loop\n",
        "ep_rewards = []\n",
        "for ep in range(n_episodes):\n",
        "    # perform rollout\n",
        "    train_data, reward = rollout(model, env)\n",
        "    ep_rewards.append(reward)\n",
        "\n",
        "    # shuffle \n",
        "    permute_idxs = np.random.permutation(len(train_data[0]))\n",
        "\n",
        "    # policy data\n",
        "    obs = torch.FloatTensor(train_data[0][permute_idxs]).to(device)\n",
        "    acts = torch.LongTensor(train_data[1][permute_idxs]).to(device)\n",
        "    gaes = torch.FloatTensor(train_data[3][permute_idxs]).to(device)\n",
        "    act_log_probs = torch.FloatTensor(train_data[4][permute_idxs]).to(device)\n",
        "\n",
        "    # value data\n",
        "    returns = discount_rewards(train_data[2][permute_idxs])\n",
        "    returns = torch.FloatTensor(returns).to(device)\n",
        "\n",
        "    # train policy\n",
        "    ppo_trainer.train_policy(obs, acts, act_log_probs, gaes)\n",
        "\n",
        "    # train value\n",
        "    ppo_trainer.train_value(obs, returns)\n",
        "\n",
        "\n",
        "    avg_rewards = np.mean(ep_rewards[-print_freq:]) if ep >= print_freq else np.mean(ep_rewards)\n",
        "    # prints\n",
        "    if (ep + 1) % print_freq ==0:\n",
        "        print('Episode {} | avg Reward:{:.1f}'.format(ep + 1, avg_rewards))\n",
        "\n",
        "    \n",
        "    if avg_rewards >= target_reward:\n",
        "        print(\"Environment solved in {} episodes | avg reward: {:.1f}\".format(ep + 1, avg_rewards))\n",
        "        break\n",
        "       "
      ],
      "metadata": {
        "colab": {
          "base_uri": "https://localhost:8080/"
        },
        "id": "hl77TTdwS-NL",
        "outputId": "5eb6d09b-456a-47e5-edf0-28e8f8b35f2a"
      },
      "execution_count": 15,
      "outputs": [
        {
          "output_type": "stream",
          "name": "stdout",
          "text": [
            "Episode 20 | avg Reward:16.1\n",
            "Episode 40 | avg Reward:19.4\n",
            "Episode 60 | avg Reward:23.7\n",
            "Episode 80 | avg Reward:82.8\n",
            "Episode 100 | avg Reward:74.9\n",
            "Episode 120 | avg Reward:154.6\n",
            "Environment solved in 136 episodes | avg reward: 190.3\n"
          ]
        }
      ]
    },
    {
      "cell_type": "code",
      "source": [
        "import matplotlib.pyplot as plt\n",
        "plt.plot(ep_rewards, label='mean rewards')\n",
        "plt.legend(loc='best')\n",
        "plt.title(\"Mean rewards\")\n",
        "plt.show()"
      ],
      "metadata": {
        "id": "7lqaHNNf0bIm",
        "colab": {
          "base_uri": "https://localhost:8080/",
          "height": 281
        },
        "outputId": "1cf9912a-39a8-4150-b13a-bd4850213740"
      },
      "execution_count": 18,
      "outputs": [
        {
          "output_type": "display_data",
          "data": {
            "text/plain": [
              "<Figure size 432x288 with 1 Axes>"
            ],
            "image/png": "[encoded data removed]"
          },
          "metadata": {
            "needs_background": "light"
          }
        }
      ]
    },
    {
      "cell_type": "code",
      "source": [
        ""
      ],
      "metadata": {
        "id": "PbFG5TNCe08N"
      },
      "execution_count": null,
      "outputs": []
    }
  ]
}