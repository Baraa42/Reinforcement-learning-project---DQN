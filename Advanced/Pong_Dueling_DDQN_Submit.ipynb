{
  "cells": [
    {
      "cell_type": "markdown",
      "source": [
        "# Dependencies"
      ],
      "metadata": {
        "id": "-a1WzemieezH"
      }
    },
    {
      "cell_type": "code",
      "execution_count": null,
      "metadata": {
        "id": "jU_5-BKk8tzG"
      },
      "outputs": [],
      "source": [
        "!pip install gym\\[atari,accept-rom-license\\]==0.21.0"
      ]
    },
    {
      "cell_type": "markdown",
      "source": [
        "# Imports"
      ],
      "metadata": {
        "id": "GWphxBWNef8F"
      }
    },
    {
      "cell_type": "code",
      "execution_count": null,
      "metadata": {
        "id": "h0M_2qhJ7Skl"
      },
      "outputs": [],
      "source": [
        "import numpy as np\n",
        "import matplotlib.pyplot as plt\n",
        "from skimage.transform import resize\n",
        "\n",
        "import torch\n",
        "import torch.nn as nn\n",
        "\n",
        "import os, dill\n",
        "import random, time\n",
        "import gym\n",
        "\n",
        "from collections import namedtuple, deque\n",
        "from copy import deepcopy, copy\n",
        "from datetime import datetime"
      ]
    },
    {
      "cell_type": "code",
      "execution_count": null,
      "metadata": {
        "colab": {
          "base_uri": "https://localhost:8080/"
        },
        "id": "dv8GkXFgSP8y",
        "outputId": "fa7ea1c6-84e0-4869-d7e0-4282435a212f"
      },
      "outputs": [
        {
          "output_type": "stream",
          "name": "stdout",
          "text": [
            "Mounted at /content/drive\n"
          ]
        }
      ],
      "source": [
        "from google.colab import drive\n",
        "drive.mount('/content/drive')"
      ]
    },
    {
      "cell_type": "code",
      "execution_count": null,
      "metadata": {
        "colab": {
          "base_uri": "https://localhost:8080/"
        },
        "id": "VbwemBiS72PA",
        "outputId": "daaa8c96-2fa7-4b3b-d9c0-147fb0980864"
      },
      "outputs": [
        {
          "output_type": "execute_result",
          "data": {
            "text/plain": [
              "device(type='cpu')"
            ]
          },
          "metadata": {},
          "execution_count": 5
        }
      ],
      "source": [
        "device = torch.device('cuda' if torch.cuda.is_available() else 'cpu')\n",
        "device"
      ]
    },
    {
      "cell_type": "markdown",
      "source": [
        "# Wrapper class for Pong\n",
        "\n",
        "[source](https://github.com/PacktPublishing/Deep-Reinforcement-Learning-Hands-On/blob/master/Chapter06/lib/wrappers.py)"
      ],
      "metadata": {
        "id": "M5eUHQ-GfdYO"
      }
    },
    {
      "cell_type": "code",
      "execution_count": null,
      "metadata": {
        "id": "N67PnOzkkImh"
      },
      "outputs": [],
      "source": [
        "class FireResetEnv(gym.Wrapper):\n",
        "    def __init__(self, env=None):\n",
        "        super(FireResetEnv, self).__init__(env)\n",
        "        assert env.unwrapped.get_action_meanings()[1] == 'FIRE'\n",
        "        assert len(env.unwrapped.get_action_meanings()) >= 3\n",
        "\n",
        "    def step(self, action):\n",
        "        return self.env.step(action)\n",
        "\n",
        "    def reset(self):\n",
        "        self.env.reset()\n",
        "        obs, _, done, _ = self.env.step(1)\n",
        "        if done:\n",
        "            self.env.reset()\n",
        "        obs, _, done, _ = self.env.step(2)\n",
        "        if done:\n",
        "            self.env.reset()\n",
        "        return obs"
      ]
    },
    {
      "cell_type": "markdown",
      "metadata": {
        "id": "Dh3uCEZt78K4"
      },
      "source": [
        "# Explore environment"
      ]
    },
    {
      "cell_type": "code",
      "execution_count": null,
      "metadata": {
        "colab": {
          "base_uri": "https://localhost:8080/",
          "height": 465
        },
        "id": "T3pIm8NV780w",
        "outputId": "f3b1223c-9d86-464c-974c-3e13164ca339"
      },
      "outputs": [
        {
          "output_type": "display_data",
          "data": {
            "text/plain": [
              "<Figure size 864x576 with 1 Axes>"
            ],
            "image/png": "[encoded data removed]"
          },
          "metadata": {
            "needs_background": "light"
          }
        }
      ],
      "source": [
        "env = gym.make(\"PongDeterministic-v4\")\n",
        "env = FireResetEnv(env)\n",
        "state = env.reset()\n",
        "plt.figure(figsize=(12,8))\n",
        "plt.imshow(state)\n",
        "plt.axis('off')\n",
        "plt.show()"
      ]
    },
    {
      "cell_type": "code",
      "execution_count": null,
      "metadata": {
        "colab": {
          "base_uri": "https://localhost:8080/"
        },
        "id": "QdGp1Tlw9pe3",
        "outputId": "d0846ae9-5af8-4c2b-96c2-ca9af88569f7"
      },
      "outputs": [
        {
          "name": "stdout",
          "output_type": "stream",
          "text": [
            "Number of possible actions: 6\n"
          ]
        }
      ],
      "source": [
        "print(f'Number of possible actions: {env.action_space.n}')"
      ]
    },
    {
      "cell_type": "code",
      "execution_count": null,
      "metadata": {
        "id": "wMn3waeav1IK"
      },
      "outputs": [],
      "source": [
        "def play_one_episode():\n",
        "    done = False\n",
        "    s = env.reset()\n",
        "    reward = 0\n",
        "    while not done:\n",
        "        s, r, done, _ = env.step(env.action_space.sample())\n",
        "        reward += r\n",
        "\n",
        "    return reward\n"
      ]
    },
    {
      "cell_type": "markdown",
      "metadata": {
        "id": "OOjezIsU-BhN"
      },
      "source": [
        "# Preprocessing:\n",
        "\n",
        "1. Convert to grayscale.\n",
        "2. Ressize to 75 x 80"
      ]
    },
    {
      "cell_type": "code",
      "execution_count": null,
      "metadata": {
        "id": "aE72hyAe-JlZ"
      },
      "outputs": [],
      "source": [
        "# # convert to gray scale\n",
        "# def convert_to_gray(img):\n",
        "#     return np.dot(img, [0.2989, 0.5870, 0.1140])"
      ]
    },
    {
      "cell_type": "markdown",
      "source": [
        "[source](https://gist.github.com/karpathy/a4166c7fe253700972fcbc77e4ea32c5)"
      ],
      "metadata": {
        "id": "PRYq1n7KfurE"
      }
    },
    {
      "cell_type": "code",
      "execution_count": null,
      "metadata": {
        "id": "0NkfOJ__kOU2"
      },
      "outputs": [],
      "source": [
        "def convert_to_gray_rescale(img):\n",
        "    \"\"\" prepro 210x160x3 uint8 frame into 6000 (75x80) 1D float vector \"\"\"\n",
        "    img = img[35:185] # crop - remove 35px from start & 25px from end of image in x, to reduce redundant parts of image (i.e. after ball passes paddle)\n",
        "    img = img[::2,::2,0] # downsample by factor of 2.\n",
        "    img[img == 144] = 0 # erase background (background type 1)\n",
        "    img[img == 109] = 0 # erase background (background type 2)\n",
        "    img[img != 0] = 1 # everything else (paddles, ball) just set to 1. this makes the image grayscale effectively\n",
        "    return img # ravel flattens an array and collapses it into a column vector"
      ]
    },
    {
      "cell_type": "code",
      "execution_count": null,
      "metadata": {
        "colab": {
          "base_uri": "https://localhost:8080/",
          "height": 466
        },
        "id": "t5YIepNL_GbB",
        "outputId": "d41ebf67-42aa-4527-9d33-04d5ed4a7d26"
      },
      "outputs": [
        {
          "output_type": "display_data",
          "data": {
            "text/plain": [
              "<Figure size 864x576 with 1 Axes>"
            ],
            "image/png": "[encoded data removed]"
          },
          "metadata": {
            "needs_background": "light"
          }
        }
      ],
      "source": [
        "state_g = convert_to_gray_rescale(state)\n",
        "plt.figure(figsize=(12,8))\n",
        "plt.imshow(state_g, cmap='gray')\n",
        "plt.axis('off')\n",
        "plt.show()"
      ]
    },
    {
      "cell_type": "code",
      "execution_count": null,
      "metadata": {
        "id": "nGKxFBjHx3zR"
      },
      "outputs": [],
      "source": [
        "def normalize(img):\n",
        "    return img / 255"
      ]
    },
    {
      "cell_type": "code",
      "execution_count": null,
      "metadata": {
        "id": "SrReW_0MAHr_"
      },
      "outputs": [],
      "source": [
        "# putting everything together\n",
        "def preprocess(img):\n",
        "    img_g = convert_to_gray_rescale(img)\n",
        "    #img_t = resize(img_g, (84, 84))\n",
        "    img_n = normalize(img_g)\n",
        "    return img_n"
      ]
    },
    {
      "cell_type": "markdown",
      "source": [
        "# Replay Buffer Class"
      ],
      "metadata": {
        "id": "z8wqBUwaf1zF"
      }
    },
    {
      "cell_type": "code",
      "execution_count": null,
      "metadata": {
        "id": "UU6rtZXwAq4J"
      },
      "outputs": [],
      "source": [
        "class ReplayBuffer(object):\n",
        "    def __init__(self, env, capacity, n_frames):\n",
        "        self.env = env\n",
        "        self.capacity = capacity\n",
        "        self.n_frames = n_frames\n",
        "        self.buffer = namedtuple('Buffer', field_names=['state', 'action', 'reward', 'done','next_state'])\n",
        "        self.memory = deque(maxlen=capacity)\n",
        "        \n",
        "    def push(self, state, action, reward, done, next_state):\n",
        "        # convert (state, action, next_state, reward, done)\n",
        "        self.memory.append(self.buffer(state, action, reward, done, next_state))\n",
        "        \n",
        "        \n",
        "    def sample(self, batch_size):\n",
        "        indices = np.random.choice(len(self.memory), batch_size, replace=False)\n",
        "        batch = zip(*[self.memory[i] for i in indices])\n",
        "        return batch\n",
        "    \n",
        "    def populate(self, length):\n",
        "        # populate buffer\n",
        "        state_frames = deque(maxlen=self.n_frames)\n",
        "        next_state_frames = deque(maxlen=self.n_frames)\n",
        "        zeros = np.zeros((75,80))\n",
        "\n",
        "\n",
        "        while len(self.memory) < length:\n",
        "            # init frames\n",
        "            for i in range(self.n_frames):\n",
        "                state_frames.append(zeros)\n",
        "                next_state_frames.append(zeros)\n",
        "            \n",
        "            done = False\n",
        "            s0 = self.env.reset()\n",
        "            while not done:\n",
        "                action = self.env.action_space.sample()\n",
        "                s1, r, done, _ = self.env.step(action)\n",
        "\n",
        "                # build input states\n",
        "                s0_t = preprocess(s0) # (84, 84)\n",
        "                state_frames.append(s0_t) # stack of 4 (84,84)\n",
        "                s1_t = preprocess(s1) # (84, 84)\n",
        "                next_state_frames.append(s1_t) # stack of 4 (84,84)\n",
        "\n",
        "                # stack 4 frames in  tensor\n",
        "                input_state = np.stack(state_frames)\n",
        "                input_next_state = np.stack(next_state_frames)\n",
        "\n",
        "                # update buffer\n",
        "                self.push(input_state, action, r, done, input_next_state)\n",
        "                s0 = s1\n",
        "\n",
        "                if len(self.memory) >= length:\n",
        "                    break\n",
        "        \n",
        "    def __len__(self):\n",
        "        return len(self.memory)"
      ]
    },
    {
      "cell_type": "markdown",
      "source": [
        "# Dueling D-DQN Class"
      ],
      "metadata": {
        "id": "lELEgzJLf4d2"
      }
    },
    {
      "cell_type": "code",
      "execution_count": null,
      "metadata": {
        "id": "GVqgc3tNQF4Z"
      },
      "outputs": [],
      "source": [
        "class QNetwork(nn.Module):\n",
        "    def __init__(self,env, n_frames):\n",
        "        super().__init__()\n",
        "        self.conv = nn.Sequential(\n",
        "            nn.Conv2d(n_frames, 32, kernel_size=8, stride=4), # input_shape: batch_size x 4 x 84 x 84 -> batch_size x 32 x 20 x 20\n",
        "            #nn.BatchNorm2d(32),\n",
        "            nn.ReLU(),\n",
        "            nn.Conv2d(32, 64, kernel_size=4, stride=2),\n",
        "            #nn.BatchNorm2d(64),\n",
        "            nn.ReLU(), \n",
        "            nn.Conv2d(64, 64, kernel_size=3, stride=1),\n",
        "            #nn.BatchNorm2d(64),\n",
        "            nn.ReLU(),\n",
        "            )\n",
        "        \n",
        "        conv_out_shape = self._get_input_shape([4,75,80]) # replace (75,80) by your input shape\n",
        "\n",
        "        self.value_stream = nn.Sequential(\n",
        "            nn.Linear(conv_out_shape, 512),\n",
        "            #nn.BatchNorm2d(512),\n",
        "            nn.ReLU(),\n",
        "            nn.Linear(512, 1)\n",
        "        )\n",
        "\n",
        "        self.advantage_stream = nn.Sequential(\n",
        "            nn.Linear(conv_out_shape, 512),\n",
        "            #nn.BatchNorm2d(512),\n",
        "            nn.ReLU(),\n",
        "            nn.Linear(512, env.action_space.n)\n",
        "        )\n",
        "              \n",
        "    def forward(self, x):\n",
        "        # conv layer output\n",
        "        features = self.conv(x)\n",
        "        features = features.view(x.size(0), -1)\n",
        "\n",
        "        # value stream\n",
        "        values = self.value_stream(features) \n",
        "\n",
        "        # advantages\n",
        "        advantages = self.advantage_stream(features)\n",
        "\n",
        "        # q values\n",
        "        q_values = values + (advantages - advantages.mean())\n",
        "\n",
        "        return q_values\n",
        "        \n",
        "    def _get_input_shape(self, shape):\n",
        "        conv_out = self.conv(torch.zeros(1, *shape))\n",
        "        return int(np.prod(conv_out.size()))\n",
        "        "
      ]
    },
    {
      "cell_type": "markdown",
      "source": [
        "# Agent Class"
      ],
      "metadata": {
        "id": "tpyRYLS2f83d"
      }
    },
    {
      "cell_type": "code",
      "execution_count": null,
      "metadata": {
        "id": "73c5BoOMTR_E"
      },
      "outputs": [],
      "source": [
        "class Agent():\n",
        "    def __init__(self, env, buffer, epsilon, epsilon_mid, epsilon_final, decay_mid, decay_final):\n",
        "        self.env = env\n",
        "        self.buffer = buffer\n",
        "        self.epsilon = epsilon\n",
        "        self.epsilon_start = epsilon\n",
        "        self.epsilon_mid = epsilon_mid\n",
        "        self.epsilon_final = epsilon_final\n",
        "        self.decay_mid = decay_mid\n",
        "        self.decay_final = decay_final\n",
        "        self.state_frames = deque(maxlen=buffer.n_frames)\n",
        "        self.next_state_frames = deque(maxlen=buffer.n_frames)\n",
        "        self.reset_frames()\n",
        "        \n",
        "    def take_action(self, state):\n",
        "        \n",
        "        # build state frames\n",
        "        state_frames = self.build_state_frames(state) # 4, 75, 80\n",
        "        # which action to take ?\n",
        "        action = self.get_action(state_frames)\n",
        "\n",
        "        # take the action\n",
        "        next_state, reward, done, _ = self.env.step(action)\n",
        "\n",
        "        # build next state frames\n",
        "        next_state_frames = self.build_next_state_frames(next_state)\n",
        "\n",
        "        # push new buffer\n",
        "        self.buffer.push(state_frames, action, reward, done, next_state_frames)\n",
        "        \n",
        "        return next_state, reward, done\n",
        "        \n",
        "    def get_action(self, state_frames):\n",
        "        if random.random() < self.epsilon:\n",
        "            action = self.env.action_space.sample()\n",
        "        else:\n",
        "            action = self.get_greedy_action(state_frames)\n",
        "        return action\n",
        "            \n",
        "    def get_greedy_action(self, state_frames):\n",
        "        with torch.no_grad():\n",
        "            Q_network.eval()\n",
        "            state_frames = np.expand_dims(state_frames, 0)\n",
        "            state_frames = torch.FloatTensor(state_frames).to(device)\n",
        "            index_action = torch.argmax(Q_network(state_frames).cpu()).item()\n",
        "            Q_network.train()\n",
        "        return index_action\n",
        "    \n",
        "    \n",
        "    def learn(self, batch_size):\n",
        "        # sample a batch\n",
        "        batch = self.buffer.sample(batch_size)\n",
        "        states, actions, rewards, dones, next_states = [i for i in batch]\n",
        "\n",
        "        # transform batch to tensor then to device\n",
        "        states_t = torch.FloatTensor(np.array(states)).to(device)\n",
        "        actions_t = torch.LongTensor(np.array(actions)).to(device)\n",
        "        rewards_t = torch.FloatTensor(np.array(rewards)).to(device)\n",
        "        dones_t = torch.BoolTensor(np.array(dones)).to(device)\n",
        "        next_states_t = torch.FloatTensor(np.array(next_states)).to(device)\n",
        "\n",
        "        # update rule : q(s,a) = q(s,a) + (r + gamma * max_a'_q(s',a') - q(s,a))\n",
        "        # y = r + gamma * max_a'_q(s',a')\n",
        "        # get q_vals target\n",
        "        next_q_values = Q_target(next_states_t).detach().max(1)[0]# batch size, 1\n",
        "        next_q_values[dones_t] = 0 # zero the final states\n",
        "        y = rewards_t + gamma * next_q_values\n",
        "        y = y.unsqueeze(1)\n",
        "    \n",
        "        # q_values\n",
        "        q_values = Q_network(states_t).gather(1, actions_t.reshape(-1, 1))\n",
        "        \n",
        "        # compute loss\n",
        "        loss = criterion(q_values, y)\n",
        "        \n",
        "        # back prop\n",
        "        optimizer.zero_grad()\n",
        "        loss.backward()\n",
        "        \n",
        "        # # Trick: gradient clipping\n",
        "        for param in Q_network.parameters():\n",
        "            param.grad.data.clamp_(-1, 1)\n",
        "\n",
        "        # gradient descent\n",
        "        optimizer.step()\n",
        "        \n",
        "        return loss.item()\n",
        "         \n",
        "    def reset_frames(self):\n",
        "        zeros = np.zeros((75,80))\n",
        "        for i in range(self.buffer.n_frames):\n",
        "            self.state_frames.append(zeros)\n",
        "            self.next_state_frames.append(zeros)\n",
        "\n",
        "    def build_state_frames(self, state):\n",
        "        state_t = preprocess(state)\n",
        "        self.state_frames.append(state_t)\n",
        "        return np.stack(self.state_frames)\n",
        "\n",
        "    def build_next_state_frames(self, next_state):\n",
        "        next_state_t = preprocess(next_state)\n",
        "        self.next_state_frames.append(next_state_t)\n",
        "        return np.stack(self.next_state_frames)\n",
        "\n",
        "    def update_epsilon(self):\n",
        "        e = self.epsilon \n",
        "\n",
        "        if e > self.epsilon_mid:\n",
        "            self.epsilon = max(self.epsilon_mid, e - self.decay_mid)\n",
        "        else:\n",
        "            self.epsilon = max(self.epsilon_final, e - self.decay_final)\n",
        " \n",
        "    def reset_epsilon(self):\n",
        "        self.epsilon = self.epsilon_start"
      ]
    },
    {
      "cell_type": "markdown",
      "source": [
        "## Copy Q_net to Q_target"
      ],
      "metadata": {
        "id": "OzP2hOlvf-xP"
      }
    },
    {
      "cell_type": "code",
      "execution_count": null,
      "metadata": {
        "id": "Q_WnTPusRe4F"
      },
      "outputs": [],
      "source": [
        "def copy_network(Q_network, Q_target):\n",
        "    Q_target.load_state_dict(Q_network.state_dict())"
      ]
    },
    {
      "cell_type": "markdown",
      "source": [
        "### Standard Weight Initialization function"
      ],
      "metadata": {
        "id": "Xb4YZJEJgBGZ"
      }
    },
    {
      "cell_type": "code",
      "execution_count": null,
      "metadata": {
        "id": "kBEf6oAZiv8p"
      },
      "outputs": [],
      "source": [
        "def initialize_weights(m):\n",
        "  if isinstance(m, nn.Conv2d):\n",
        "      nn.init.kaiming_uniform_(m.weight.data,nonlinearity='relu')\n",
        "      if m.bias is not None:\n",
        "          nn.init.constant_(m.bias.data, 0)\n",
        "  elif isinstance(m, nn.BatchNorm2d):\n",
        "      nn.init.constant_(m.weight.data, 1)\n",
        "      nn.init.constant_(m.bias.data, 0)\n",
        "  elif isinstance(m, nn.Linear):\n",
        "      nn.init.kaiming_uniform_(m.weight.data)\n",
        "      nn.init.constant_(m.bias.data, 0)"
      ]
    },
    {
      "cell_type": "markdown",
      "source": [
        "# Hyperparameters"
      ],
      "metadata": {
        "id": "-KCqv92GgGkF"
      }
    },
    {
      "cell_type": "code",
      "execution_count": null,
      "metadata": {
        "id": "z79ssfZ1kFcE"
      },
      "outputs": [],
      "source": [
        "# Hyper params \n",
        "capacity = 40000\n",
        "n_frames = 4\n",
        "epsilon = 1\n",
        "epsilon_mid = 0.1\n",
        "epsilon_final = 0.02\n",
        "initial_buffer_size = 10000\n",
        "mid_exploration_frame = 1000000\n",
        "final_exploration_frame = 2400000\n",
        "\n",
        "decay_mid =  (epsilon - epsilon_mid) / mid_exploration_frame\n",
        "\n",
        "decay_final = (epsilon_mid - epsilon_final) / (final_exploration_frame - mid_exploration_frame)\n",
        "\n",
        "\n",
        "lr = 1e-4 #25e-5 # ok for pong\n",
        "batch_size = 32\n",
        "\n",
        "max_episodes = 5000\n",
        "rewards_target = 19\n",
        "window = 100\n",
        "network_update_frequency = 4\n",
        "network_sync_frequency = 1000\n",
        "network_epsilon_update_frequency = 1\n",
        "gamma = 0.99\n"
      ]
    },
    {
      "cell_type": "markdown",
      "source": [
        "# Instatiate and populate replay buffer"
      ],
      "metadata": {
        "id": "BaELCGTCgIPj"
      }
    },
    {
      "cell_type": "code",
      "execution_count": null,
      "metadata": {
        "colab": {
          "base_uri": "https://localhost:8080/"
        },
        "id": "uW9vFtEykR6Q",
        "outputId": "2d9dde8d-4b95-4b64-cefe-4643527dbdb3"
      },
      "outputs": [
        {
          "name": "stdout",
          "output_type": "stream",
          "text": [
            "It took : 0:00:08.095395 to populate buffer of size: 10000\n"
          ]
        }
      ],
      "source": [
        "buffer = ReplayBuffer(env, capacity, n_frames)\n",
        "t0 = datetime.now()\n",
        "buffer.populate(initial_buffer_size)\n",
        "dt = datetime.now() - t0\n",
        "\n",
        "print(\"It took :\", dt, \"to populate buffer of size:\", len(buffer))\n",
        "agent = Agent(env, buffer, epsilon, epsilon_mid, epsilon_final, decay_mid, decay_final)"
      ]
    },
    {
      "cell_type": "markdown",
      "metadata": {
        "id": "enfzqHLor0jN"
      },
      "source": [
        "# Save / Load functions"
      ]
    },
    {
      "cell_type": "code",
      "execution_count": null,
      "metadata": {
        "id": "9BQHFrTTrz1Z"
      },
      "outputs": [],
      "source": [
        "drive_path = \"/content/drive/MyDrive/PongDeterministic-v4-Dueling\"\n",
        "\n",
        "if not os.path.exists(drive_path):\n",
        "    os.mkdir(drive_path)\n",
        "data_names = ['models', 'mean_rewards', 'best_score', 'losses']\n",
        "def save_data(episode, reward):\n",
        "\n",
        "    print(\"saving to drive\")\n",
        "\n",
        "    for data in data_names:\n",
        "        data_path = os.path.join(drive_path, data)\n",
        "        if not os.path.exists(data_path):\n",
        "            os.mkdir(data_path)\n",
        "\n",
        "        if data == 'models':\n",
        "\n",
        "            data_file_name = './pong_ep_{}_score_{}.pth'.format(episode, reward)\n",
        "            data_file_path = os.path.join(data_path, data_file_name)\n",
        "\n",
        "            torch.save(Q_network, data_file_path)\n",
        "            print('model saved')        \n",
        "\n",
        "        else:\n",
        "            print(\"Saving \" + data )\n",
        "            data_file_name = data + f\"_{episode}_{reward}.pkl\"\n",
        "            data_file_path = os.path.join(data_path, data_file_name)\n",
        "\n",
        "            with open(data_file_path, 'wb') as f:\n",
        "                if data == 'mean_rewards':\n",
        "                    dill.dump(mean_episode_rewards, f)\n",
        "                elif data == 'best_score':\n",
        "                    dill.dump(best_score, f)\n",
        "                elif data == 'losses':\n",
        "                    dill.dump(episodes_loss, f)\n",
        "\n",
        "\n",
        "\n"
      ]
    },
    {
      "cell_type": "code",
      "execution_count": null,
      "metadata": {
        "id": "Wle85688r6TZ"
      },
      "outputs": [],
      "source": [
        "# 10652 _ 1873\n",
        "def load_data(episode, reward):\n",
        "\n",
        "    print(\"loading from drive\")\n",
        "\n",
        "    for data in data_names:\n",
        "        data_path = os.path.join(drive_path, data)\n",
        "\n",
        "        if data == 'models':\n",
        "            data_file_name = f\"pong_ep_{episode}_score_{reward}.pth\"\n",
        "            data_file_path = os.path.join(data_path, data_file_name)\n",
        "\n",
        "            Q_network = torch.load(data_file_path, map_location=device)\n",
        "            Q_target = torch.load(data_file_path, map_location=device)\n",
        "            print(\"Models Loaded\")\n",
        "            print(Q_network)\n",
        "        \n",
        "        else:\n",
        "            print(\"Loading \" + data)\n",
        "            data_file_name = data + f\"_{episode}_{reward}.pkl\"\n",
        "            data_file_path = os.path.join(data_path, data_file_name)\n",
        "            with open(data_file_path, 'rb') as f:\n",
        "                if data == 'mean_rewards':\n",
        "                    mean_episode_rewards = dill.load(f)\n",
        "                    print(\"Rewards loaded, length of rewards:\", len(mean_episode_rewards))\n",
        "                elif data == 'best_score':\n",
        "                    best_score = dill.load(f)\n",
        "                    print(\"best score loaded:\", best_score)\n",
        "                elif data == 'losses':\n",
        "                    episodes_loss = dill.load(f)\n",
        "                    print(\"episodes_loss loaded, length of losses:\", len(episodes_loss))\n",
        "\n",
        "    return Q_network, Q_target, mean_episode_rewards, best_score, episodes_loss\n",
        "\n",
        "\n",
        "    \n"
      ]
    },
    {
      "cell_type": "code",
      "execution_count": null,
      "metadata": {
        "colab": {
          "base_uri": "https://localhost:8080/"
        },
        "id": "DnvkRiYKZE0L",
        "outputId": "d24e1736-7b2b-4373-f3d4-50f6c72160e8"
      },
      "outputs": [
        {
          "data": {
            "text/plain": [
              "QNetwork(\n",
              "  (conv): Sequential(\n",
              "    (0): Conv2d(4, 32, kernel_size=(8, 8), stride=(4, 4))\n",
              "    (1): ReLU()\n",
              "    (2): Conv2d(32, 64, kernel_size=(4, 4), stride=(2, 2))\n",
              "    (3): ReLU()\n",
              "    (4): Conv2d(64, 64, kernel_size=(3, 3), stride=(1, 1))\n",
              "    (5): ReLU()\n",
              "  )\n",
              "  (value_stream): Sequential(\n",
              "    (0): Linear(in_features=1920, out_features=512, bias=True)\n",
              "    (1): ReLU()\n",
              "    (2): Linear(in_features=512, out_features=1, bias=True)\n",
              "  )\n",
              "  (advantage_stream): Sequential(\n",
              "    (0): Linear(in_features=1920, out_features=512, bias=True)\n",
              "    (1): ReLU()\n",
              "    (2): Linear(in_features=512, out_features=6, bias=True)\n",
              "  )\n",
              ")"
            ]
          },
          "execution_count": 135,
          "metadata": {},
          "output_type": "execute_result"
        }
      ],
      "source": [
        "Q_network = QNetwork(env, n_frames)\n",
        "Q_network.apply(initialize_weights)\n",
        "Q_target = QNetwork(env, n_frames)\n",
        "Q_target.load_state_dict(Q_network.state_dict())\n",
        "Q_target.eval()\n",
        "Q_network.to(device)\n",
        "Q_target.to(device)"
      ]
    },
    {
      "cell_type": "code",
      "execution_count": null,
      "metadata": {
        "colab": {
          "base_uri": "https://localhost:8080/"
        },
        "id": "9WwGf5iU2wxa",
        "outputId": "d92e21b5-c300-4fca-a937-0657bd3f7ec4"
      },
      "outputs": [
        {
          "output_type": "stream",
          "name": "stdout",
          "text": [
            "pong_ep_0_score_-2000.pth     pong_ep_1941_score_943.pth\n",
            "pong_ep_0_score_-2100.pth     pong_ep_1947_score_1026.pth\n",
            "pong_ep_1000_score_-1261.pth  pong_ep_2000_score_1039.pth\n",
            "pong_ep_1005_score_-1239.pth  pong_ep_2001_score_901.pth\n",
            "pong_ep_1028_score_-1154.pth  pong_ep_2001_score_918.pth\n",
            "pong_ep_1145_score_-1071.pth  pong_ep_2001_score_923.pth\n",
            "pong_ep_1156_score_-988.pth   pong_ep_2170_score_1145.pth\n",
            "pong_ep_1167_score_-902.pth   pong_ep_2183_score_1240.pth\n",
            "pong_ep_1171_score_-813.pth   pong_ep_2200_score_1323.pth\n",
            "pong_ep_1179_score_-715.pth   pong_ep_2385_score_-1968.pth\n",
            "pong_ep_1190_score_-634.pth   pong_ep_2394_score_1406.pth\n",
            "pong_ep_1200_score_-548.pth   pong_ep_2672_score_1493.pth\n",
            "pong_ep_1213_score_-466.pth   pong_ep_3001_score_1039.pth\n",
            "pong_ep_1224_score_-377.pth   pong_ep_4001_score_1195.pth\n",
            "pong_ep_1238_score_-287.pth   pong_ep_5001_score_755.pth\n",
            "pong_ep_1251_score_-200.pth   pong_ep_554_score_-1898.pth\n",
            "pong_ep_1261_score_-107.pth   pong_ep_5740_score_1575.pth\n",
            "pong_ep_1296_score_-26.pth    pong_ep_5891_score_1660.pth\n",
            "pong_ep_1308_score_64.pth     pong_ep_6001_score_1535.pth\n",
            "pong_ep_1314_score_148.pth    pong_ep_6237_score_1741.pth\n",
            "pong_ep_1328_score_239.pth    pong_ep_746_score_-1814.pth\n",
            "pong_ep_1334_score_321.pth    pong_ep_886_score_-1726.pth\n",
            "pong_ep_1752_score_408.pth    pong_ep_898_score_-1644.pth\n",
            "pong_ep_1833_score_500.pth    pong_ep_916_score_-1563.pth\n",
            "pong_ep_1871_score_582.pth    pong_ep_931_score_-1482.pth\n",
            "pong_ep_1890_score_669.pth    pong_ep_945_score_-1401.pth\n",
            "pong_ep_1908_score_772.pth    pong_ep_964_score_-1320.pth\n",
            "pong_ep_1927_score_853.pth\n"
          ]
        }
      ],
      "source": [
        "!ls /content/drive/MyDrive/PongDeterministic-v4-Dueling/models"
      ]
    },
    {
      "cell_type": "code",
      "execution_count": null,
      "metadata": {
        "colab": {
          "base_uri": "https://localhost:8080/"
        },
        "id": "v3cU5lRO2u3q",
        "outputId": "2c856abe-4994-4f59-b5c9-9704466d9b3e"
      },
      "outputs": [
        {
          "output_type": "stream",
          "name": "stdout",
          "text": [
            "loading from drive\n",
            "Models Loaded\n",
            "QNetwork(\n",
            "  (conv): Sequential(\n",
            "    (0): Conv2d(4, 32, kernel_size=(8, 8), stride=(4, 4))\n",
            "    (1): ReLU()\n",
            "    (2): Conv2d(32, 64, kernel_size=(4, 4), stride=(2, 2))\n",
            "    (3): ReLU()\n",
            "    (4): Conv2d(64, 64, kernel_size=(3, 3), stride=(1, 1))\n",
            "    (5): ReLU()\n",
            "  )\n",
            "  (value_stream): Sequential(\n",
            "    (0): Linear(in_features=1920, out_features=512, bias=True)\n",
            "    (1): ReLU()\n",
            "    (2): Linear(in_features=512, out_features=1, bias=True)\n",
            "  )\n",
            "  (advantage_stream): Sequential(\n",
            "    (0): Linear(in_features=1920, out_features=512, bias=True)\n",
            "    (1): ReLU()\n",
            "    (2): Linear(in_features=512, out_features=6, bias=True)\n",
            "  )\n",
            ")\n",
            "Loading mean_rewards\n",
            "Rewards loaded, length of rewards: 10475\n",
            "Loading best_score\n",
            "best score loaded: 17.41457638930599\n",
            "Loading losses\n",
            "episodes_loss loaded, length of losses: 6238\n"
          ]
        },
        {
          "output_type": "execute_result",
          "data": {
            "text/plain": [
              "QNetwork(\n",
              "  (conv): Sequential(\n",
              "    (0): Conv2d(4, 32, kernel_size=(8, 8), stride=(4, 4))\n",
              "    (1): ReLU()\n",
              "    (2): Conv2d(32, 64, kernel_size=(4, 4), stride=(2, 2))\n",
              "    (3): ReLU()\n",
              "    (4): Conv2d(64, 64, kernel_size=(3, 3), stride=(1, 1))\n",
              "    (5): ReLU()\n",
              "  )\n",
              "  (value_stream): Sequential(\n",
              "    (0): Linear(in_features=1920, out_features=512, bias=True)\n",
              "    (1): ReLU()\n",
              "    (2): Linear(in_features=512, out_features=1, bias=True)\n",
              "  )\n",
              "  (advantage_stream): Sequential(\n",
              "    (0): Linear(in_features=1920, out_features=512, bias=True)\n",
              "    (1): ReLU()\n",
              "    (2): Linear(in_features=512, out_features=6, bias=True)\n",
              "  )\n",
              ")"
            ]
          },
          "metadata": {},
          "execution_count": 21
        }
      ],
      "source": [
        "Q_network, Q_target, mean_episode_rewards, best_score, episodes_loss = load_data(6237,1741)\n",
        "Q_target.eval()\n",
        "Q_network.to(device)\n",
        "Q_target.to(device)"
      ]
    },
    {
      "cell_type": "markdown",
      "source": [
        "# Training"
      ],
      "metadata": {
        "id": "bMiAv56vgUD9"
      }
    },
    {
      "cell_type": "code",
      "execution_count": null,
      "metadata": {
        "id": "WDhuZX17eCWA"
      },
      "outputs": [],
      "source": [
        "optimizer = torch.optim.Adam(Q_network.parameters(), lr=lr)\n",
        "#optimizer = torch.optim.RMSprop(Q_network.parameters(), lr=lr)\n",
        "criterion = nn.MSELoss()"
      ]
    },
    {
      "cell_type": "code",
      "execution_count": null,
      "metadata": {
        "id": "SL7t9plReSDK"
      },
      "outputs": [],
      "source": [
        "# 10652 _ 1873\n",
        "#Q_network, Q_target, mean_episode_rewards, best_score, episodes_loss = load_data(10652, 1873)"
      ]
    },
    {
      "cell_type": "code",
      "execution_count": null,
      "metadata": {
        "colab": {
          "background_save": true,
          "base_uri": "https://localhost:8080/"
        },
        "id": "ujsong_IZGP1",
        "outputId": "af423b26-f9cb-4dc2-88b7-45147203e734"
      },
      "outputs": [
        {
          "name": "stdout",
          "output_type": "stream",
          "text": [
            "Episode 2001 Mean Rewards 9.30 \n",
            "Total steps so far: 4950676\n",
            "Episode 2011 Mean Rewards 8.05 \n",
            "Episode 2021 Mean Rewards 6.97 \n",
            "Episode 2031 Mean Rewards 6.78 \n",
            "Episode 2041 Mean Rewards 6.45 \n",
            "Episode 2051 Mean Rewards 6.14 \n",
            "Episode 2061 Mean Rewards 6.56 \n",
            "Episode 2071 Mean Rewards 7.24 \n",
            "Episode 2081 Mean Rewards 6.85 \n",
            "Episode 2091 Mean Rewards 6.17 \n",
            "Episode 2101 Mean Rewards 5.69 \n",
            "Total steps so far: 5236122\n",
            "Episode 2111 Mean Rewards 6.53 \n",
            "Episode 2121 Mean Rewards 6.88 \n",
            "Episode 2131 Mean Rewards 7.59 \n",
            "Episode 2141 Mean Rewards 8.40 \n",
            "Episode 2151 Mean Rewards 9.71 \n",
            "Episode 2161 Mean Rewards 10.75 \n",
            "saving to drive\n",
            "model saved\n",
            "Saving mean_rewards\n",
            "Saving best_score\n",
            "Saving losses\n",
            "Model Saved. Total Steps: 5437870. New best score: 11.4520718600649\n",
            "Episode 2171 Mean Rewards 11.51 \n",
            "Episode 2181 Mean Rewards 11.78 \n",
            "saving to drive\n",
            "model saved\n",
            "Saving mean_rewards\n",
            "Saving best_score\n",
            "Saving losses\n",
            "Model Saved. Total Steps: 5479725. New best score: 12.402210856267109\n",
            "Episode 2191 Mean Rewards 12.79 \n",
            "saving to drive\n",
            "model saved\n",
            "Saving mean_rewards\n",
            "Saving best_score\n",
            "Saving losses\n",
            "Model Saved. Total Steps: 5528329. New best score: 13.23634920071129\n",
            "Episode 2201 Mean Rewards 13.31 \n",
            "Total steps so far: 5531070\n",
            "Episode 2211 Mean Rewards 12.86 \n",
            "Episode 2221 Mean Rewards 13.18 \n",
            "Episode 2231 Mean Rewards 13.50 \n",
            "Episode 2241 Mean Rewards 13.17 \n",
            "Episode 2251 Mean Rewards 11.84 \n",
            "Episode 2261 Mean Rewards 11.60 \n",
            "Episode 2271 Mean Rewards 10.80 \n",
            "Episode 2281 Mean Rewards 9.20 \n",
            "Episode 2291 Mean Rewards 8.66 \n",
            "Episode 2301 Mean Rewards 9.54 \n",
            "Total steps so far: 5851956\n",
            "Episode 2311 Mean Rewards 9.96 \n",
            "Episode 2321 Mean Rewards 10.47 \n",
            "Episode 2331 Mean Rewards 11.95 \n",
            "Episode 2341 Mean Rewards 12.78 \n",
            "Episode 2351 Mean Rewards 13.08 \n",
            "Episode 2361 Mean Rewards 13.41 \n",
            "Episode 2371 Mean Rewards 13.75 \n",
            "Episode 2381 Mean Rewards 13.73 \n",
            "Episode 2391 Mean Rewards 13.98 \n",
            "saving to drive\n",
            "model saved\n",
            "Saving mean_rewards\n",
            "Saving best_score\n",
            "Saving losses\n",
            "Model Saved. Total Steps: 6135705. New best score: 14.067311908166287\n",
            "Episode 2401 Mean Rewards 13.93 \n",
            "Total steps so far: 6154582\n",
            "Episode 2411 Mean Rewards 13.83 \n",
            "Episode 2421 Mean Rewards 14.13 \n",
            "Episode 2431 Mean Rewards 14.71 \n",
            "Episode 2441 Mean Rewards 14.69 \n",
            "Episode 2451 Mean Rewards 13.90 \n",
            "Episode 2461 Mean Rewards 14.26 \n",
            "Episode 2471 Mean Rewards 14.18 \n",
            "Episode 2481 Mean Rewards 13.81 \n",
            "Episode 2491 Mean Rewards 13.77 \n",
            "Episode 2501 Mean Rewards 14.56 \n",
            "Total steps so far: 6450250\n",
            "Episode 2511 Mean Rewards 13.76 \n",
            "Episode 2521 Mean Rewards 13.60 \n",
            "Episode 2531 Mean Rewards 13.51 \n",
            "Episode 2541 Mean Rewards 13.30 \n",
            "Episode 2551 Mean Rewards 13.22 \n",
            "Episode 2561 Mean Rewards 13.32 \n",
            "Episode 2571 Mean Rewards 12.26 \n",
            "Episode 2581 Mean Rewards 11.22 \n",
            "Episode 2591 Mean Rewards 10.41 \n",
            "Episode 2601 Mean Rewards 10.28 \n",
            "Total steps so far: 6775915\n",
            "Episode 2611 Mean Rewards 10.80 \n",
            "Episode 2621 Mean Rewards 11.64 \n",
            "Episode 2631 Mean Rewards 12.90 \n",
            "Episode 2641 Mean Rewards 13.94 \n",
            "Episode 2651 Mean Rewards 14.22 \n",
            "Episode 2661 Mean Rewards 14.37 \n",
            "Episode 2671 Mean Rewards 14.84 \n",
            "saving to drive\n",
            "model saved\n",
            "Saving mean_rewards\n",
            "Saving best_score\n",
            "Saving losses\n",
            "Model Saved. Total Steps: 6970233. New best score: 14.93087349570627\n",
            "Episode 2681 Mean Rewards 14.78 \n",
            "Episode 2691 Mean Rewards 14.71 \n",
            "Episode 2701 Mean Rewards 14.24 \n",
            "Total steps so far: 7059590\n",
            "Episode 2711 Mean Rewards 13.67 \n",
            "Episode 2721 Mean Rewards 12.29 \n",
            "Episode 2731 Mean Rewards 11.32 \n",
            "Episode 2741 Mean Rewards 10.55 \n",
            "Episode 2751 Mean Rewards 10.45 \n",
            "Episode 2761 Mean Rewards 9.98 \n",
            "Episode 2771 Mean Rewards 10.12 \n",
            "Episode 2781 Mean Rewards 10.16 \n",
            "Episode 2791 Mean Rewards 10.42 \n",
            "Episode 2801 Mean Rewards 10.46 \n",
            "Total steps so far: 7400587\n",
            "Episode 2811 Mean Rewards 11.26 \n",
            "Episode 2821 Mean Rewards 12.08 \n",
            "Episode 2831 Mean Rewards 12.57 \n",
            "Episode 2841 Mean Rewards 13.15 \n",
            "Episode 2851 Mean Rewards 13.20 \n",
            "Episode 2861 Mean Rewards 13.00 \n",
            "Episode 2871 Mean Rewards 12.78 \n",
            "Episode 2881 Mean Rewards 13.09 \n",
            "Episode 2891 Mean Rewards 13.05 \n",
            "Episode 2901 Mean Rewards 13.55 \n",
            "Total steps so far: 7700258\n",
            "Episode 2911 Mean Rewards 14.21 \n",
            "Episode 2921 Mean Rewards 14.75 \n",
            "Episode 2931 Mean Rewards 14.76 \n",
            "Episode 2941 Mean Rewards 14.62 \n",
            "Episode 2951 Mean Rewards 13.92 \n",
            "Episode 2961 Mean Rewards 12.83 \n",
            "Episode 2971 Mean Rewards 11.72 \n",
            "Episode 2981 Mean Rewards 10.60 \n",
            "Episode 2991 Mean Rewards 10.16 \n",
            "Episode 3001 Mean Rewards 10.40 \n",
            "Total steps so far: 7985130\n",
            "Check point\n",
            "saving to drive\n",
            "model saved\n",
            "Saving mean_rewards\n",
            "Saving best_score\n",
            "Saving losses\n",
            "Episode 3011 Mean Rewards 10.39 \n",
            "Episode 3021 Mean Rewards 10.64 \n",
            "Episode 3031 Mean Rewards 11.71 \n",
            "Episode 3041 Mean Rewards 11.45 \n",
            "Episode 3051 Mean Rewards 11.13 \n",
            "Episode 3061 Mean Rewards 10.90 \n",
            "Episode 3071 Mean Rewards 11.42 \n",
            "Episode 3081 Mean Rewards 10.91 \n",
            "Episode 3091 Mean Rewards 10.39 \n",
            "Episode 3101 Mean Rewards 10.36 \n",
            "Total steps so far: 8232888\n",
            "Episode 3111 Mean Rewards 10.54 \n",
            "Episode 3121 Mean Rewards 9.53 \n",
            "Episode 3131 Mean Rewards 9.49 \n",
            "Episode 3141 Mean Rewards 9.97 \n",
            "Episode 3151 Mean Rewards 9.96 \n",
            "Episode 3161 Mean Rewards 10.53 \n",
            "Episode 3171 Mean Rewards 11.54 \n",
            "Episode 3181 Mean Rewards 10.50 \n",
            "Episode 3191 Mean Rewards 10.11 \n",
            "Episode 3201 Mean Rewards 10.68 \n",
            "Total steps so far: 8485303\n",
            "Episode 3211 Mean Rewards 10.54 \n",
            "Episode 3221 Mean Rewards 10.17 \n",
            "Episode 3231 Mean Rewards 11.25 \n",
            "Episode 3241 Mean Rewards 12.33 \n",
            "Episode 3251 Mean Rewards 12.05 \n",
            "Episode 3261 Mean Rewards 12.36 \n",
            "Episode 3271 Mean Rewards 12.67 \n",
            "Episode 3281 Mean Rewards 12.88 \n",
            "Episode 3291 Mean Rewards 12.37 \n",
            "Episode 3301 Mean Rewards 12.10 \n",
            "Total steps so far: 8754380\n",
            "Episode 3311 Mean Rewards 12.30 \n",
            "Episode 3321 Mean Rewards 12.21 \n",
            "Episode 3331 Mean Rewards 12.20 \n",
            "Episode 3341 Mean Rewards 12.32 \n",
            "Episode 3351 Mean Rewards 13.27 \n",
            "Episode 3361 Mean Rewards 13.60 \n",
            "Episode 3371 Mean Rewards 13.75 \n",
            "Episode 3381 Mean Rewards 14.06 \n",
            "Episode 3391 Mean Rewards 14.75 \n",
            "Episode 3401 Mean Rewards 14.64 \n",
            "Total steps so far: 9041768\n",
            "Episode 3411 Mean Rewards 14.18 \n",
            "Episode 3421 Mean Rewards 14.64 \n",
            "Episode 3431 Mean Rewards 14.71 \n",
            "Episode 3441 Mean Rewards 14.99 \n",
            "Episode 3451 Mean Rewards 15.08 \n",
            "Episode 3461 Mean Rewards 15.15 \n",
            "Episode 3471 Mean Rewards 14.78 \n",
            "Episode 3481 Mean Rewards 15.03 \n",
            "Episode 3491 Mean Rewards 14.89 \n",
            "Episode 3501 Mean Rewards 14.58 \n",
            "Total steps so far: 9314213\n",
            "Episode 3511 Mean Rewards 14.06 \n",
            "Episode 3521 Mean Rewards 12.60 \n",
            "Episode 3531 Mean Rewards 10.75 \n",
            "Episode 3541 Mean Rewards 8.19 \n",
            "Episode 3551 Mean Rewards 6.56 \n",
            "Episode 3561 Mean Rewards 5.19 \n",
            "Episode 3571 Mean Rewards 3.15 \n",
            "Episode 3581 Mean Rewards 3.32 \n",
            "Episode 3591 Mean Rewards 4.47 \n",
            "Episode 3601 Mean Rewards 5.73 \n",
            "Total steps so far: 9566728\n",
            "Episode 3611 Mean Rewards 6.98 \n",
            "Episode 3621 Mean Rewards 9.92 \n",
            "Episode 3631 Mean Rewards 11.44 \n",
            "Episode 3641 Mean Rewards 12.48 \n",
            "Episode 3651 Mean Rewards 12.17 \n",
            "Episode 3661 Mean Rewards 12.87 \n",
            "Episode 3671 Mean Rewards 13.74 \n",
            "Episode 3681 Mean Rewards 13.53 \n",
            "Episode 3691 Mean Rewards 13.38 \n",
            "Episode 3701 Mean Rewards 13.79 \n",
            "Total steps so far: 9797099\n",
            "Episode 3711 Mean Rewards 13.64 \n",
            "Episode 3721 Mean Rewards 12.61 \n",
            "Episode 3731 Mean Rewards 12.23 \n",
            "Episode 3741 Mean Rewards 11.53 \n",
            "Episode 3751 Mean Rewards 11.68 \n",
            "Episode 3761 Mean Rewards 11.68 \n",
            "Episode 3771 Mean Rewards 11.76 \n",
            "Episode 3781 Mean Rewards 12.16 \n",
            "Episode 3791 Mean Rewards 12.65 \n",
            "Episode 3801 Mean Rewards 12.55 \n",
            "Total steps so far: 10065524\n",
            "Episode 3811 Mean Rewards 12.24 \n",
            "Episode 3821 Mean Rewards 12.91 \n",
            "Episode 3831 Mean Rewards 12.66 \n",
            "Episode 3841 Mean Rewards 13.01 \n",
            "Episode 3851 Mean Rewards 13.04 \n",
            "Episode 3861 Mean Rewards 13.16 \n",
            "Episode 3871 Mean Rewards 13.12 \n",
            "Episode 3881 Mean Rewards 13.09 \n",
            "Episode 3891 Mean Rewards 12.69 \n",
            "Episode 3901 Mean Rewards 12.33 \n",
            "Total steps so far: 10341281\n",
            "Episode 3911 Mean Rewards 11.08 \n",
            "Episode 3921 Mean Rewards 10.55 \n",
            "Episode 3931 Mean Rewards 10.31 \n",
            "Episode 3941 Mean Rewards 9.97 \n",
            "Episode 3951 Mean Rewards 10.43 \n",
            "Episode 3961 Mean Rewards 11.69 \n",
            "Episode 3971 Mean Rewards 12.00 \n",
            "Episode 3981 Mean Rewards 11.80 \n",
            "Episode 3991 Mean Rewards 12.22 \n",
            "Episode 4001 Mean Rewards 11.95 \n",
            "Total steps so far: 10593572\n",
            "Check point\n",
            "saving to drive\n",
            "model saved\n",
            "Saving mean_rewards\n",
            "Saving best_score\n",
            "Saving losses\n",
            "Episode 4011 Mean Rewards 11.58 \n",
            "Episode 4021 Mean Rewards 10.55 \n",
            "Episode 4031 Mean Rewards 11.09 \n",
            "Episode 4041 Mean Rewards 10.59 \n",
            "Episode 4051 Mean Rewards 9.66 \n",
            "Episode 4061 Mean Rewards 8.71 \n",
            "Episode 4071 Mean Rewards 8.20 \n",
            "Episode 4081 Mean Rewards 7.25 \n",
            "Episode 4091 Mean Rewards 7.40 \n",
            "Episode 4101 Mean Rewards 8.01 \n",
            "Total steps so far: 10875840\n",
            "Episode 4111 Mean Rewards 8.68 \n",
            "Episode 4121 Mean Rewards 9.90 \n",
            "Episode 4131 Mean Rewards 10.26 \n",
            "Episode 4141 Mean Rewards 9.85 \n",
            "Episode 4151 Mean Rewards 9.67 \n",
            "Episode 4161 Mean Rewards 10.25 \n",
            "Episode 4171 Mean Rewards 10.35 \n",
            "Episode 4181 Mean Rewards 11.21 \n",
            "Episode 4191 Mean Rewards 12.35 \n",
            "Episode 4201 Mean Rewards 13.47 \n",
            "Total steps so far: 11146771\n",
            "Episode 4211 Mean Rewards 14.05 \n",
            "Episode 4221 Mean Rewards 14.22 \n",
            "Episode 4231 Mean Rewards 14.24 \n",
            "Episode 4241 Mean Rewards 13.24 \n",
            "Episode 4251 Mean Rewards 12.42 \n",
            "Episode 4261 Mean Rewards 11.03 \n",
            "Episode 4271 Mean Rewards 11.11 \n",
            "Episode 4281 Mean Rewards 9.89 \n",
            "Episode 4291 Mean Rewards 10.05 \n",
            "Episode 4301 Mean Rewards 10.56 \n",
            "Total steps so far: 11376029\n",
            "Episode 4311 Mean Rewards 10.55 \n",
            "Episode 4321 Mean Rewards 9.50 \n",
            "Episode 4331 Mean Rewards 10.32 \n",
            "Episode 4341 Mean Rewards 10.68 \n",
            "Episode 4351 Mean Rewards 10.25 \n",
            "Episode 4361 Mean Rewards 10.63 \n",
            "Episode 4371 Mean Rewards 11.31 \n",
            "Episode 4381 Mean Rewards 11.03 \n",
            "Episode 4391 Mean Rewards 11.18 \n",
            "Episode 4401 Mean Rewards 11.31 \n",
            "Total steps so far: 11635005\n",
            "Episode 4411 Mean Rewards 11.82 \n",
            "Episode 4421 Mean Rewards 12.11 \n",
            "Episode 4431 Mean Rewards 12.56 \n",
            "Episode 4441 Mean Rewards 12.56 \n",
            "Episode 4451 Mean Rewards 13.01 \n",
            "Episode 4461 Mean Rewards 12.36 \n",
            "Episode 4471 Mean Rewards 11.98 \n",
            "Episode 4481 Mean Rewards 12.20 \n",
            "Episode 4491 Mean Rewards 11.37 \n",
            "Episode 4501 Mean Rewards 10.95 \n",
            "Total steps so far: 11891071\n",
            "Episode 4511 Mean Rewards 11.90 \n",
            "Episode 4521 Mean Rewards 11.88 \n",
            "Episode 4531 Mean Rewards 10.92 \n",
            "Episode 4541 Mean Rewards 11.45 \n",
            "Episode 4551 Mean Rewards 10.83 \n",
            "Episode 4561 Mean Rewards 9.81 \n",
            "Episode 4571 Mean Rewards 9.24 \n",
            "Episode 4581 Mean Rewards 8.94 \n",
            "Episode 4591 Mean Rewards 8.81 \n",
            "Episode 4601 Mean Rewards 8.91 \n",
            "Total steps so far: 12179276\n",
            "Episode 4611 Mean Rewards 8.86 \n",
            "Episode 4621 Mean Rewards 8.49 \n",
            "Episode 4631 Mean Rewards 8.25 \n",
            "Episode 4641 Mean Rewards 7.20 \n",
            "Episode 4651 Mean Rewards 6.56 \n",
            "Episode 4661 Mean Rewards 4.81 \n",
            "Episode 4671 Mean Rewards 4.55 \n",
            "Episode 4681 Mean Rewards 4.30 \n",
            "Episode 4691 Mean Rewards 4.42 \n",
            "Episode 4701 Mean Rewards 3.04 \n",
            "Total steps so far: 12469938\n",
            "Episode 4711 Mean Rewards 3.95 \n",
            "Episode 4721 Mean Rewards 4.87 \n",
            "Episode 4731 Mean Rewards 5.88 \n",
            "Episode 4741 Mean Rewards 6.87 \n",
            "Episode 4751 Mean Rewards 9.32 \n",
            "Episode 4761 Mean Rewards 10.67 \n",
            "Episode 4771 Mean Rewards 11.05 \n",
            "Episode 4781 Mean Rewards 11.54 \n",
            "Episode 4791 Mean Rewards 12.17 \n",
            "Episode 4801 Mean Rewards 12.59 \n",
            "Total steps so far: 12753289\n",
            "Episode 4811 Mean Rewards 13.30 \n",
            "Episode 4821 Mean Rewards 14.33 \n",
            "Episode 4831 Mean Rewards 14.83 \n",
            "Episode 4841 Mean Rewards 14.96 \n",
            "Episode 4851 Mean Rewards 15.24 \n",
            "Episode 4861 Mean Rewards 15.08 \n",
            "Episode 4871 Mean Rewards 14.49 \n",
            "Episode 4881 Mean Rewards 14.32 \n",
            "Episode 4891 Mean Rewards 14.02 \n",
            "Episode 4901 Mean Rewards 13.56 \n",
            "Total steps so far: 13007593\n",
            "Episode 4911 Mean Rewards 13.64 \n",
            "Episode 4921 Mean Rewards 13.21 \n",
            "Episode 4931 Mean Rewards 12.47 \n",
            "Episode 4941 Mean Rewards 12.07 \n",
            "Episode 4951 Mean Rewards 11.82 \n",
            "Episode 4961 Mean Rewards 11.07 \n",
            "Episode 4971 Mean Rewards 8.04 \n",
            "Episode 4981 Mean Rewards 7.74 \n",
            "Episode 4991 Mean Rewards 7.57 \n",
            "Episode 5001 Mean Rewards 7.56 \n",
            "Total steps so far: 13288541\n",
            "Check point\n",
            "saving to drive\n",
            "model saved\n",
            "Saving mean_rewards\n",
            "Saving best_score\n",
            "Saving losses\n",
            "Episode 5011 Mean Rewards 7.38 \n",
            "Episode 5021 Mean Rewards 10.14 \n",
            "Episode 5031 Mean Rewards 10.95 \n",
            "Episode 5041 Mean Rewards 11.44 \n",
            "Episode 5051 Mean Rewards 12.12 \n",
            "Episode 5061 Mean Rewards 12.71 \n",
            "Episode 5071 Mean Rewards 13.68 \n",
            "Episode 5081 Mean Rewards 14.07 \n",
            "Episode 5091 Mean Rewards 13.90 \n",
            "Episode 5101 Mean Rewards 13.09 \n",
            "Total steps so far: 13538370\n",
            "Episode 5111 Mean Rewards 12.62 \n",
            "Episode 5121 Mean Rewards 10.57 \n",
            "Episode 5131 Mean Rewards 9.13 \n",
            "Episode 5141 Mean Rewards 8.04 \n",
            "Episode 5151 Mean Rewards 7.06 \n",
            "Episode 5161 Mean Rewards 6.01 \n",
            "Episode 5171 Mean Rewards 6.64 \n",
            "Episode 5181 Mean Rewards 5.42 \n",
            "Episode 5191 Mean Rewards 5.26 \n",
            "Episode 5201 Mean Rewards 5.11 \n",
            "Total steps so far: 13847210\n",
            "Episode 5211 Mean Rewards 4.76 \n",
            "Episode 5221 Mean Rewards 4.18 \n",
            "Episode 5231 Mean Rewards 5.09 \n",
            "Episode 5241 Mean Rewards 5.41 \n",
            "Episode 5251 Mean Rewards 6.48 \n",
            "Episode 5261 Mean Rewards 7.56 \n",
            "Episode 5271 Mean Rewards 8.76 \n",
            "Episode 5281 Mean Rewards 9.29 \n",
            "Episode 5291 Mean Rewards 10.54 \n",
            "Episode 5301 Mean Rewards 10.86 \n",
            "Total steps so far: 14145258\n",
            "Episode 5311 Mean Rewards 11.09 \n",
            "Episode 5321 Mean Rewards 10.30 \n",
            "Episode 5331 Mean Rewards 10.18 \n",
            "Episode 5341 Mean Rewards 9.05 \n",
            "Episode 5351 Mean Rewards 8.55 \n",
            "Episode 5361 Mean Rewards 8.44 \n",
            "Episode 5371 Mean Rewards 9.20 \n",
            "Episode 5381 Mean Rewards 9.97 \n",
            "Episode 5391 Mean Rewards 10.79 \n",
            "Episode 5401 Mean Rewards 11.00 \n",
            "Total steps so far: 14473451\n",
            "Episode 5411 Mean Rewards 11.32 \n",
            "Episode 5421 Mean Rewards 11.74 \n",
            "Episode 5431 Mean Rewards 11.59 \n",
            "Episode 5441 Mean Rewards 11.32 \n",
            "Episode 5451 Mean Rewards 11.53 \n",
            "Episode 5461 Mean Rewards 12.20 \n",
            "Episode 5471 Mean Rewards 12.62 \n",
            "Episode 5481 Mean Rewards 13.15 \n",
            "Episode 5491 Mean Rewards 13.70 \n",
            "Episode 5501 Mean Rewards 13.83 \n",
            "Total steps so far: 14743742\n",
            "Episode 5511 Mean Rewards 13.68 \n",
            "Episode 5521 Mean Rewards 13.52 \n",
            "Episode 5531 Mean Rewards 13.07 \n",
            "Episode 5541 Mean Rewards 13.40 \n",
            "Episode 5551 Mean Rewards 12.55 \n",
            "Episode 5561 Mean Rewards 11.17 \n",
            "Episode 5571 Mean Rewards 10.77 \n",
            "Episode 5581 Mean Rewards 10.47 \n",
            "Episode 5591 Mean Rewards 9.87 \n",
            "Episode 5601 Mean Rewards 10.57 \n",
            "Total steps so far: 14994718\n",
            "Episode 5611 Mean Rewards 11.29 \n",
            "Episode 5621 Mean Rewards 11.61 \n",
            "Episode 5631 Mean Rewards 12.09 \n",
            "Episode 5641 Mean Rewards 12.20 \n",
            "Episode 5651 Mean Rewards 12.31 \n",
            "Episode 5661 Mean Rewards 12.90 \n",
            "Episode 5671 Mean Rewards 12.70 \n",
            "Episode 5681 Mean Rewards 12.57 \n",
            "Episode 5691 Mean Rewards 12.98 \n",
            "Episode 5701 Mean Rewards 13.74 \n",
            "Total steps so far: 15289233\n",
            "Episode 5711 Mean Rewards 14.38 \n",
            "Episode 5721 Mean Rewards 14.97 \n",
            "Episode 5731 Mean Rewards 15.50 \n",
            "saving to drive\n",
            "model saved\n",
            "Saving mean_rewards\n",
            "Saving best_score\n",
            "Saving losses\n",
            "Model Saved. Total Steps: 15388962. New best score: 15.75385927248744\n",
            "Episode 5741 Mean Rewards 15.79 \n",
            "Episode 5751 Mean Rewards 16.02 \n",
            "Episode 5761 Mean Rewards 16.04 \n",
            "Episode 5771 Mean Rewards 15.88 \n",
            "Episode 5781 Mean Rewards 15.51 \n",
            "Episode 5791 Mean Rewards 15.52 \n",
            "Episode 5801 Mean Rewards 15.04 \n",
            "Total steps so far: 15556331\n",
            "Episode 5811 Mean Rewards 14.84 \n",
            "Episode 5821 Mean Rewards 14.68 \n",
            "Episode 5831 Mean Rewards 15.10 \n",
            "Episode 5841 Mean Rewards 15.00 \n",
            "Episode 5851 Mean Rewards 15.07 \n",
            "Episode 5861 Mean Rewards 15.29 \n",
            "Episode 5871 Mean Rewards 15.82 \n",
            "Episode 5881 Mean Rewards 16.15 \n",
            "saving to drive\n",
            "model saved\n",
            "Saving mean_rewards\n",
            "Saving best_score\n",
            "Saving losses\n",
            "Model Saved. Total Steps: 15765898. New best score: 16.602086508308574\n",
            "Episode 5891 Mean Rewards 16.60 \n",
            "Episode 5901 Mean Rewards 17.02 \n",
            "Total steps so far: 15787087\n",
            "Episode 5911 Mean Rewards 16.81 \n",
            "Episode 5921 Mean Rewards 16.91 \n",
            "Episode 5931 Mean Rewards 16.77 \n",
            "Episode 5941 Mean Rewards 15.98 \n",
            "Episode 5951 Mean Rewards 15.94 \n",
            "Episode 5961 Mean Rewards 16.04 \n",
            "Episode 5971 Mean Rewards 15.87 \n",
            "Episode 5981 Mean Rewards 15.53 \n",
            "Episode 5991 Mean Rewards 15.57 \n",
            "Episode 6001 Mean Rewards 15.36 \n",
            "Total steps so far: 16040046\n",
            "Check point\n",
            "saving to drive\n",
            "model saved\n",
            "Saving mean_rewards\n",
            "Saving best_score\n",
            "Saving losses\n",
            "Episode 6011 Mean Rewards 15.42 \n",
            "Episode 6021 Mean Rewards 15.02 \n",
            "Episode 6031 Mean Rewards 15.22 \n",
            "Episode 6041 Mean Rewards 15.38 \n",
            "Episode 6051 Mean Rewards 15.16 \n",
            "Episode 6061 Mean Rewards 15.09 \n",
            "Episode 6071 Mean Rewards 15.59 \n",
            "Episode 6081 Mean Rewards 15.74 \n",
            "Episode 6091 Mean Rewards 16.02 \n",
            "Episode 6101 Mean Rewards 16.19 \n",
            "Total steps so far: 16290556\n",
            "Episode 6111 Mean Rewards 16.07 \n",
            "Episode 6121 Mean Rewards 15.65 \n",
            "Episode 6131 Mean Rewards 14.68 \n",
            "Episode 6141 Mean Rewards 14.31 \n",
            "Episode 6151 Mean Rewards 14.37 \n",
            "Episode 6161 Mean Rewards 14.55 \n",
            "Episode 6171 Mean Rewards 14.70 \n",
            "Episode 6181 Mean Rewards 15.41 \n",
            "Episode 6191 Mean Rewards 15.73 \n",
            "Episode 6201 Mean Rewards 15.97 \n",
            "Total steps so far: 16532084\n",
            "Episode 6211 Mean Rewards 16.28 \n",
            "Episode 6221 Mean Rewards 16.60 \n",
            "Episode 6231 Mean Rewards 17.02 \n",
            "saving to drive\n",
            "model saved\n",
            "Saving mean_rewards\n",
            "Saving best_score\n",
            "Saving losses\n",
            "Model Saved. Total Steps: 16604897. New best score: 17.41457638930599\n",
            "Episode 6241 Mean Rewards 17.01 \n",
            "Episode 6251 Mean Rewards 16.77 \n",
            "Episode 6261 Mean Rewards 16.33 \n",
            "Episode 6271 Mean Rewards 16.05 \n",
            "Episode 6281 Mean Rewards 15.91 \n",
            "Episode 6291 Mean Rewards 16.15 \n",
            "Episode 6301 Mean Rewards 16.40 \n",
            "Total steps so far: 16734246\n",
            "Episode 6311 Mean Rewards 16.85 \n",
            "Episode 6321 Mean Rewards 16.83 \n",
            "Episode 6331 Mean Rewards 16.65 \n",
            "Episode 6341 Mean Rewards 15.37 \n",
            "Episode 6351 Mean Rewards 14.43 \n",
            "Episode 6361 Mean Rewards 13.87 \n",
            "Episode 6371 Mean Rewards 13.40 \n",
            "Episode 6381 Mean Rewards 12.91 \n",
            "Episode 6391 Mean Rewards 13.59 \n",
            "Episode 6401 Mean Rewards 14.30 \n",
            "Total steps so far: 16924694\n",
            "Episode 6411 Mean Rewards 14.34 \n",
            "Episode 6421 Mean Rewards 14.13 \n",
            "Episode 6431 Mean Rewards 14.11 \n",
            "Episode 6441 Mean Rewards 13.54 \n",
            "Episode 6451 Mean Rewards 12.31 \n",
            "Episode 6461 Mean Rewards 12.05 \n",
            "Episode 6471 Mean Rewards 12.64 \n",
            "Episode 6481 Mean Rewards 13.03 \n",
            "Episode 6491 Mean Rewards 13.70 \n",
            "Episode 6501 Mean Rewards 13.85 \n",
            "Total steps so far: 17141882\n",
            "Episode 6511 Mean Rewards 14.22 \n",
            "Episode 6521 Mean Rewards 14.32 \n",
            "Episode 6531 Mean Rewards 14.49 \n",
            "Episode 6541 Mean Rewards 14.68 \n",
            "Episode 6551 Mean Rewards 15.76 \n",
            "Episode 6561 Mean Rewards 16.15 \n",
            "Episode 6571 Mean Rewards 16.42 \n",
            "Episode 6581 Mean Rewards 16.54 \n",
            "Episode 6591 Mean Rewards 16.84 \n",
            "Episode 6601 Mean Rewards 16.61 \n",
            "Total steps so far: 17367242\n",
            "Episode 6611 Mean Rewards 16.37 \n",
            "Episode 6621 Mean Rewards 16.10 \n",
            "Episode 6631 Mean Rewards 16.20 \n",
            "Episode 6641 Mean Rewards 16.25 \n",
            "Episode 6651 Mean Rewards 16.79 \n",
            "Episode 6661 Mean Rewards 16.86 \n",
            "Episode 6671 Mean Rewards 17.37 \n",
            "Episode 6681 Mean Rewards 17.30 \n",
            "Episode 6691 Mean Rewards 17.10 \n",
            "Episode 6701 Mean Rewards 16.71 \n",
            "Total steps so far: 17588328\n",
            "Episode 6711 Mean Rewards 15.90 \n",
            "Episode 6721 Mean Rewards 13.17 \n",
            "Episode 6731 Mean Rewards 12.93 \n",
            "Episode 6741 Mean Rewards 12.86 \n",
            "Episode 6751 Mean Rewards 11.69 \n",
            "Episode 6761 Mean Rewards 11.86 \n",
            "Episode 6771 Mean Rewards 13.82 \n",
            "Episode 6781 Mean Rewards 13.56 \n",
            "Episode 6791 Mean Rewards 13.08 \n",
            "Episode 6801 Mean Rewards 14.01 \n",
            "Total steps so far: 17837085\n",
            "Episode 6811 Mean Rewards 14.11 \n",
            "Episode 6821 Mean Rewards 14.35 \n",
            "Episode 6831 Mean Rewards 14.74 \n",
            "Episode 6841 Mean Rewards 15.23 \n",
            "Episode 6851 Mean Rewards 15.76 \n",
            "Episode 6861 Mean Rewards 15.80 \n",
            "Episode 6871 Mean Rewards 16.06 \n",
            "Episode 6881 Mean Rewards 16.27 \n",
            "Episode 6891 Mean Rewards 16.30 \n",
            "Episode 6901 Mean Rewards 15.97 \n",
            "Total steps so far: 18064669\n",
            "Episode 6911 Mean Rewards 16.29 \n",
            "Episode 6921 Mean Rewards 16.40 \n",
            "Episode 6931 Mean Rewards 16.21 \n",
            "Episode 6941 Mean Rewards 16.07 \n",
            "Episode 6951 Mean Rewards 16.25 \n",
            "Episode 6961 Mean Rewards 15.76 \n",
            "Episode 6971 Mean Rewards 15.52 \n",
            "Episode 6981 Mean Rewards 15.56 \n",
            "Episode 6991 Mean Rewards 15.83 \n",
            "Script run in: 15:12:06.714210 seconds\n"
          ]
        }
      ],
      "source": [
        "# training loop\n",
        "t0 = datetime.now()\n",
        "\n",
        "steps = 0\n",
        "\n",
        "training_rewards = []\n",
        "training_loss = []\n",
        "mean_episode_rewards = []\n",
        "episodes_reward = []\n",
        "episodes_loss = []\n",
        "best_score = -21\n",
        "save_score_target = -19\n",
        "\n",
        "current_episode = len(mean_episode_rewards)\n",
        "\n",
        "# in case loading model\n",
        "# steps = 4946982\n",
        "\n",
        "# training_loss = episodes_loss\n",
        "# episodes_reward = mean_episode_rewards\n",
        "# save_score_target = best_score + 0.8\n",
        "\n",
        "for i in range(max_episodes):\n",
        "    \n",
        "    done = False\n",
        "    s0 = env.reset()\n",
        "    ep_rewards = 0\n",
        "    ep_losses = []\n",
        "    agent.reset_frames()\n",
        "    \n",
        "    while not done:\n",
        "        steps += 1\n",
        "        \n",
        "        # taking action\n",
        "        s0, reward, done = agent.take_action(s0)\n",
        "        ep_rewards += reward\n",
        "        \n",
        "        # learning\n",
        "        if steps % network_update_frequency == 0:\n",
        "            loss = agent.learn(batch_size)\n",
        "            ep_losses.append(loss)\n",
        "        \n",
        "        # syncing\n",
        "        if steps % network_sync_frequency == 0:\n",
        "            copy_network(Q_network, Q_target)\n",
        "\n",
        "        # update epsion\n",
        "        if steps % network_epsilon_update_frequency == 0 and steps >= 50000:\n",
        "            agent.update_epsilon()\n",
        "        \n",
        "    if done:    \n",
        "        # updates after end of episode\n",
        "        episodes_reward.append(ep_rewards)\n",
        "        episodes_loss.append(np.mean(ep_losses))\n",
        "\n",
        "        if len(episodes_reward) >= window:\n",
        "            mean_rewards = np.mean(\n",
        "                                episodes_reward[-window:])\n",
        "            mean_episode_rewards.append(mean_rewards)\n",
        "\n",
        "        else:\n",
        "            mean_rewards = np.mean(\n",
        "                                episodes_reward)\n",
        "            mean_episode_rewards.append(mean_rewards)\n",
        "\n",
        "\n",
        "        if mean_rewards > best_score:\n",
        "            best_score = mean_rewards\n",
        "            if mean_rewards > save_score_target:\n",
        "                    save_score_target = mean_rewards + 0.8\n",
        "                    save_data(i+current_episode, int(100*mean_rewards))\n",
        "                    print(f'Model Saved. Total Steps: {steps}. New best score: {mean_rewards}')\n",
        "                \n",
        "        if i % 10 == 0:\n",
        "            print(\"Episode {:d} Mean Rewards {:.2f} \".format(\n",
        "                        i+current_episode, mean_rewards))\n",
        "        if i % 100 ==0:\n",
        "            print('Total steps so far:', steps)\n",
        "            if agent.epsilon > agent.epsilon_final:\n",
        "                print('Current epsilon:', agent.epsilon)\n",
        "        \n",
        "        if i % 1000 ==0 and i>0:\n",
        "            print(\"Check point\")\n",
        "            save_data(i+current_episode, int(100*mean_rewards))\n",
        "\n",
        "\n",
        "        if mean_rewards >= rewards_target:\n",
        "            print(f\"Environment Solved after {i} episodes and {steps} steps\")\n",
        "            break\n",
        "        \n",
        "\n",
        "            \n",
        "        \n",
        "        \n",
        "dt = (datetime.now() - t0)\n",
        "print('Script run in:', dt, 'seconds')\n",
        "\n"
      ]
    },
    {
      "cell_type": "code",
      "execution_count": null,
      "metadata": {
        "id": "PUfCIvxRdWJx"
      },
      "outputs": [],
      "source": [
        "print(\"steps:\", steps)"
      ]
    },
    {
      "cell_type": "code",
      "execution_count": null,
      "metadata": {
        "colab": {
          "base_uri": "https://localhost:8080/",
          "height": 264
        },
        "id": "YGcuTNZbnYhi",
        "outputId": "8e03bf88-d1ed-4c00-ea2b-c906a9a2c4af"
      },
      "outputs": [
        {
          "output_type": "display_data",
          "data": {
            "text/plain": [
              "<Figure size 432x288 with 1 Axes>"
            ],
            "image/png": "[encoded data removed]"
          },
          "metadata": {
            "needs_background": "light"
          }
        }
      ],
      "source": [
        "#plt.plot(episodes_reward, label='episode rewards')\n",
        "plt.plot(mean_episode_rewards[:2000], label='mean rewards')\n",
        "plt.legend()\n",
        "plt.show()\n"
      ]
    },
    {
      "cell_type": "code",
      "execution_count": null,
      "metadata": {
        "colab": {
          "base_uri": "https://localhost:8080/"
        },
        "id": "Z8cyj5iogcuK",
        "outputId": "95bf1777-f7f0-4c72-ae35-3d0d5d3e3fd6"
      },
      "outputs": [
        {
          "data": {
            "text/plain": [
              "10.62"
            ]
          },
          "execution_count": 27,
          "metadata": {},
          "output_type": "execute_result"
        }
      ],
      "source": [
        "max(mean_episode_rewards)"
      ]
    },
    {
      "cell_type": "code",
      "execution_count": null,
      "metadata": {
        "id": "YjIbvFhN32jZ"
      },
      "outputs": [],
      "source": [
        "mean_episode_rewards"
      ]
    },
    {
      "cell_type": "code",
      "source": [
        "N = 2000\n",
        "mean_rewards = mean_episode_rewards.copy()\n",
        "while N < len(mean_episode_rewards):\n",
        "    mean_rewards[N] = np.mean(mean_episode_rewards[N-window:N])\n",
        "    N += 1"
      ],
      "metadata": {
        "id": "B8Xt6S4Ad3tf"
      },
      "execution_count": null,
      "outputs": []
    },
    {
      "cell_type": "code",
      "source": [
        "plt.plot(mean_rewards)\n",
        "#plt.legend()\n",
        "plt.title(\"Pong Dueling Q-Network Mean rewards \")\n",
        "plt.xlabel('frames')#, fontsize=18)\n",
        "plt.ylabel('mean rewards')#, fontsize=16)\n",
        "plt.show()\n"
      ],
      "metadata": {
        "colab": {
          "base_uri": "https://localhost:8080/",
          "height": 294
        },
        "id": "Pufl5NgReR1z",
        "outputId": "0ae83239-eeff-45f9-bb2d-24a3bfd5c5aa"
      },
      "execution_count": null,
      "outputs": [
        {
          "output_type": "display_data",
          "data": {
            "text/plain": [
              "<Figure size 432x288 with 1 Axes>"
            ],
            "image/png": "[encoded data removed]"
          },
          "metadata": {
            "needs_background": "light"
          }
        }
      ]
    },
    {
      "cell_type": "code",
      "source": [
        "#plt.plot(episodes_reward, label='episode rewards')\n",
        "plt.plot(episodes_loss)\n",
        "plt.title(\"Pong Dueling Q-Network losses \")\n",
        "plt.xlabel('frames')#, fontsize=18)\n",
        "plt.ylabel('losses')#, fontsize=16)\n",
        "plt.show()\n"
      ],
      "metadata": {
        "colab": {
          "base_uri": "https://localhost:8080/",
          "height": 294
        },
        "id": "zgV7MHFheVOl",
        "outputId": "6326d608-301f-422a-cb2b-c207329e0e7e"
      },
      "execution_count": null,
      "outputs": [
        {
          "output_type": "display_data",
          "data": {
            "text/plain": [
              "<Figure size 432x288 with 1 Axes>"
            ],
            "image/png": "[encoded data removed]"
          },
          "metadata": {
            "needs_background": "light"
          }
        }
      ]
    },
    {
      "cell_type": "markdown",
      "source": [
        "# Imported plots from other notebook experiments."
      ],
      "metadata": {
        "id": "CDp9uHbego-0"
      }
    },
    {
      "cell_type": "markdown",
      "source": [
        "# Dueling DDQN Plots"
      ],
      "metadata": {
        "id": "uyQyXZu_ss7Z"
      }
    },
    {
      "cell_type": "code",
      "source": [
        "!ls /content/drive/MyDrive/PongDeterministic-v4-Dueling/mean_rewards/"
      ],
      "metadata": {
        "colab": {
          "base_uri": "https://localhost:8080/"
        },
        "id": "vHyT-QMzoWBJ",
        "outputId": "79ae40dd-a560-46bf-f822-ee6887bf53dd"
      },
      "execution_count": null,
      "outputs": [
        {
          "output_type": "stream",
          "name": "stdout",
          "text": [
            "mean_rewards_0_-2000.pkl     mean_rewards_1941_943.pkl\n",
            "mean_rewards_0_-2100.pkl     mean_rewards_1947_1026.pkl\n",
            "mean_rewards_1000_-1261.pkl  mean_rewards_2000_1039.pkl\n",
            "mean_rewards_1005_-1239.pkl  mean_rewards_2001_901.pkl\n",
            "mean_rewards_1028_-1154.pkl  mean_rewards_2001_918.pkl\n",
            "mean_rewards_1145_-1071.pkl  mean_rewards_2001_923.pkl\n",
            "mean_rewards_1156_-988.pkl   mean_rewards_2170_1145.pkl\n",
            "mean_rewards_1167_-902.pkl   mean_rewards_2183_1240.pkl\n",
            "mean_rewards_1171_-813.pkl   mean_rewards_2200_1323.pkl\n",
            "mean_rewards_1179_-715.pkl   mean_rewards_2385_-1968.pkl\n",
            "mean_rewards_1190_-634.pkl   mean_rewards_2394_1406.pkl\n",
            "mean_rewards_1200_-548.pkl   mean_rewards_2672_1493.pkl\n",
            "mean_rewards_1213_-466.pkl   mean_rewards_3001_1039.pkl\n",
            "mean_rewards_1224_-377.pkl   mean_rewards_4001_1195.pkl\n",
            "mean_rewards_1238_-287.pkl   mean_rewards_5001_755.pkl\n",
            "mean_rewards_1251_-200.pkl   mean_rewards_554_-1898.pkl\n",
            "mean_rewards_1261_-107.pkl   mean_rewards_5740_1575.pkl\n",
            "mean_rewards_1296_-26.pkl    mean_rewards_5891_1660.pkl\n",
            "mean_rewards_1308_64.pkl     mean_rewards_6001_1535.pkl\n",
            "mean_rewards_1314_148.pkl    mean_rewards_6237_1741.pkl\n",
            "mean_rewards_1328_239.pkl    mean_rewards_746_-1814.pkl\n",
            "mean_rewards_1334_321.pkl    mean_rewards_886_-1726.pkl\n",
            "mean_rewards_1752_408.pkl    mean_rewards_898_-1644.pkl\n",
            "mean_rewards_1833_500.pkl    mean_rewards_916_-1563.pkl\n",
            "mean_rewards_1871_582.pkl    mean_rewards_931_-1482.pkl\n",
            "mean_rewards_1890_669.pkl    mean_rewards_945_-1401.pkl\n",
            "mean_rewards_1908_772.pkl    mean_rewards_964_-1320.pkl\n",
            "mean_rewards_1927_853.pkl\n"
          ]
        }
      ]
    },
    {
      "cell_type": "code",
      "source": [
        "rewards_path = \"/content/drive/MyDrive/PongDeterministic-v4-Dueling/mean_rewards\"\n",
        "data_file_path = os.path.join(rewards_path, \"mean_rewards_6237_1741.pkl\")\n",
        "with open(data_file_path, 'rb') as f:\n",
        "        mean_episode_rewards = dill.load(f)"
      ],
      "metadata": {
        "id": "x71MtNHppHV6"
      },
      "execution_count": null,
      "outputs": []
    },
    {
      "cell_type": "code",
      "source": [
        "N = 2001\n",
        "window = 100\n",
        "mean_episode_rewards_dueling_ddqn = mean_episode_rewards.copy()\n",
        "while N < len(mean_episode_rewards_dueling_ddqn):\n",
        "    mean_episode_rewards_dueling_ddqn[N] = np.mean(mean_episode_rewards[N-window:N])\n",
        "    N += 1"
      ],
      "metadata": {
        "id": "Jd8MvFO6qRZI"
      },
      "execution_count": null,
      "outputs": []
    },
    {
      "cell_type": "code",
      "source": [
        "plt.plot(mean_episode_rewards_dueling_ddqn)\n",
        "#plt.legend()\n",
        "plt.title(\"Pong Dueling Q-Network Mean rewards \")\n",
        "plt.xlabel('episodes')#, fontsize=18)\n",
        "plt.ylabel('mean rewards')#, fontsize=16)\n",
        "plt.show()\n"
      ],
      "metadata": {
        "colab": {
          "base_uri": "https://localhost:8080/",
          "height": 295
        },
        "id": "vuKWbe1dp_qW",
        "outputId": "45168e27-0857-4c6e-b38f-4336cf0671d6"
      },
      "execution_count": null,
      "outputs": [
        {
          "output_type": "display_data",
          "data": {
            "text/plain": [
              "<Figure size 432x288 with 1 Axes>"
            ],
            "image/png": "[encoded data removed]"
          },
          "metadata": {
            "needs_background": "light"
          }
        }
      ]
    },
    {
      "cell_type": "markdown",
      "source": [
        "# DDQN Plots"
      ],
      "metadata": {
        "id": "aHkjIrTlsxa7"
      }
    },
    {
      "cell_type": "code",
      "source": [
        "!ls /content/drive/MyDrive/PongDeterministic-v4-DDQN/mean_rewards"
      ],
      "metadata": {
        "colab": {
          "base_uri": "https://localhost:8080/"
        },
        "id": "JfR1nP66rh58",
        "outputId": "7f62888e-16d4-4ca2-90bb-ac6c06f9962c"
      },
      "execution_count": null,
      "outputs": [
        {
          "output_type": "stream",
          "name": "stdout",
          "text": [
            "mean_rewards_1000_-1697.pkl  mean_rewards_2011_362.pkl\n",
            "mean_rewards_1023_-1652.pkl  mean_rewards_2037_447.pkl\n",
            "mean_rewards_1041_-1570.pkl  mean_rewards_2259_541.pkl\n",
            "mean_rewards_1053_-1477.pkl  mean_rewards_2263_625.pkl\n",
            "mean_rewards_1076_-1387.pkl  mean_rewards_2267_715.pkl\n",
            "mean_rewards_1120_-1305.pkl  mean_rewards_2271_810.pkl\n",
            "mean_rewards_1587_-1223.pkl  mean_rewards_2285_919.pkl\n",
            "mean_rewards_1600_-1135.pkl  mean_rewards_2292_1000.pkl\n",
            "mean_rewards_1688_-1053.pkl  mean_rewards_2302_1092.pkl\n",
            "mean_rewards_1692_-971.pkl   mean_rewards_2601_1101.pkl\n",
            "mean_rewards_1696_-878.pkl   mean_rewards_2665_1180.pkl\n",
            "mean_rewards_1701_-793.pkl   mean_rewards_3059_1265.pkl\n",
            "mean_rewards_1706_-708.pkl   mean_rewards_3069_1354.pkl\n",
            "mean_rewards_1715_-620.pkl   mean_rewards_3080_1435.pkl\n",
            "mean_rewards_1722_-520.pkl   mean_rewards_3102_1518.pkl\n",
            "mean_rewards_1727_-437.pkl   mean_rewards_3118_1599.pkl\n",
            "mean_rewards_1733_-356.pkl   mean_rewards_3143_1680.pkl\n",
            "mean_rewards_1771_-261.pkl   mean_rewards_3204_1762.pkl\n",
            "mean_rewards_1782_-172.pkl   mean_rewards_3601_898.pkl\n",
            "mean_rewards_1787_-83.pkl    mean_rewards_3982_1843.pkl\n",
            "mean_rewards_1792_11.pkl     mean_rewards_629_-1898.pkl\n",
            "mean_rewards_1804_110.pkl    mean_rewards_736_-1818.pkl\n",
            "mean_rewards_1811_191.pkl    mean_rewards_964_-1737.pkl\n",
            "mean_rewards_1850_274.pkl\n"
          ]
        }
      ]
    },
    {
      "cell_type": "code",
      "source": [
        "rewards_path = \"/content/drive/MyDrive/PongDeterministic-v4-DDQN/mean_rewards\"\n",
        "data_file_path = os.path.join(rewards_path, \"mean_rewards_3982_1843.pkl\")\n",
        "with open(data_file_path, 'rb') as f:\n",
        "        mean_episode_rewards = dill.load(f)"
      ],
      "metadata": {
        "id": "b8B6WtCfqCGJ"
      },
      "execution_count": null,
      "outputs": []
    },
    {
      "cell_type": "code",
      "source": [
        "plt.plot(mean_episode_rewards)\n",
        "#plt.legend()\n",
        "plt.title(\"Pong Double Q-Network Mean rewards \")\n",
        "plt.xlabel('frames')#, fontsize=18)\n",
        "plt.ylabel('mean rewards')#, fontsize=16)\n",
        "plt.show()\n"
      ],
      "metadata": {
        "colab": {
          "base_uri": "https://localhost:8080/",
          "height": 295
        },
        "id": "apif-Haer03R",
        "outputId": "e3f92f5c-e5f1-43ee-8d5d-ccfb0b73b2e3"
      },
      "execution_count": null,
      "outputs": [
        {
          "output_type": "display_data",
          "data": {
            "text/plain": [
              "<Figure size 432x288 with 1 Axes>"
            ],
            "image/png": "[encoded data removed]"
          },
          "metadata": {
            "needs_background": "light"
          }
        }
      ]
    },
    {
      "cell_type": "code",
      "source": [
        "N = 1601\n",
        "window = 100\n",
        "mean_episode_rewards_ddqn = mean_episode_rewards.copy()\n",
        "while N < len(mean_episode_rewards_ddqn):\n",
        "    mean_episode_rewards_ddqn[N] = np.mean(mean_episode_rewards[N-window:N])\n",
        "    N += 1"
      ],
      "metadata": {
        "id": "y2R7QjdGr3oA"
      },
      "execution_count": null,
      "outputs": []
    },
    {
      "cell_type": "code",
      "source": [
        "plt.plot(mean_episode_rewards_ddqn)\n",
        "#plt.legend()\n",
        "plt.title(\"Pong Double Q-Network Mean rewards \")\n",
        "plt.xlabel('frames')#, fontsize=18)\n",
        "plt.ylabel('mean rewards')#, fontsize=16)\n",
        "plt.show()\n"
      ],
      "metadata": {
        "colab": {
          "base_uri": "https://localhost:8080/",
          "height": 295
        },
        "id": "iOicbR_fsgRy",
        "outputId": "2d3e0b77-f3b1-4ddc-d9c8-e72ae69aeff1"
      },
      "execution_count": null,
      "outputs": [
        {
          "output_type": "display_data",
          "data": {
            "text/plain": [
              "<Figure size 432x288 with 1 Axes>"
            ],
            "image/png": "[encoded data removed]"
          },
          "metadata": {
            "needs_background": "light"
          }
        }
      ]
    },
    {
      "cell_type": "markdown",
      "source": [
        "# Dueling  Plots"
      ],
      "metadata": {
        "id": "sIVvMGLts0AB"
      }
    },
    {
      "cell_type": "code",
      "source": [
        "!ls /content/drive/MyDrive/PongDeterministic-v4-Dueling-Only/mean_rewards"
      ],
      "metadata": {
        "colab": {
          "base_uri": "https://localhost:8080/"
        },
        "id": "zvLoPtjusVgJ",
        "outputId": "932bec3f-14bd-457c-a720-ff91122a8151"
      },
      "execution_count": null,
      "outputs": [
        {
          "output_type": "stream",
          "name": "stdout",
          "text": [
            "mean_rewards_1000_-796.pkl  mean_rewards_1551_1226.pkl\n",
            "mean_rewards_1003_-770.pkl  mean_rewards_2000_858.pkl\n",
            "mean_rewards_1013_-681.pkl  mean_rewards_2155_1337.pkl\n",
            "mean_rewards_1025_-592.pkl  mean_rewards_2175_1431.pkl\n",
            "mean_rewards_1038_-504.pkl  mean_rewards_2184_1514.pkl\n",
            "mean_rewards_1062_-420.pkl  mean_rewards_2210_1595.pkl\n",
            "mean_rewards_1106_-332.pkl  mean_rewards_2300_1676.pkl\n",
            "mean_rewards_1219_-240.pkl  mean_rewards_2875_1757.pkl\n",
            "mean_rewards_1227_-158.pkl  mean_rewards_3000_1764.pkl\n",
            "mean_rewards_1237_-77.pkl   mean_rewards_3283_1838.pkl\n",
            "mean_rewards_1248_9.pkl     mean_rewards_4000_1764.pkl\n",
            "mean_rewards_1268_92.pkl    mean_rewards_560_-1898.pkl\n",
            "mean_rewards_1285_175.pkl   mean_rewards_683_-1817.pkl\n",
            "mean_rewards_1364_259.pkl   mean_rewards_775_-1736.pkl\n",
            "mean_rewards_1373_356.pkl   mean_rewards_852_-1652.pkl\n",
            "mean_rewards_1379_441.pkl   mean_rewards_883_-1569.pkl\n",
            "mean_rewards_1384_522.pkl   mean_rewards_904_-1483.pkl\n",
            "mean_rewards_1390_619.pkl   mean_rewards_922_-1378.pkl\n",
            "mean_rewards_1397_714.pkl   mean_rewards_932_-1286.pkl\n",
            "mean_rewards_1404_796.pkl   mean_rewards_939_-1204.pkl\n",
            "mean_rewards_1411_882.pkl   mean_rewards_954_-1120.pkl\n",
            "mean_rewards_1418_966.pkl   mean_rewards_967_-1036.pkl\n",
            "mean_rewards_1443_1059.pkl  mean_rewards_980_-943.pkl\n",
            "mean_rewards_1460_1142.pkl  mean_rewards_990_-855.pkl\n"
          ]
        }
      ]
    },
    {
      "cell_type": "code",
      "source": [
        "rewards_path = \"/content/drive/MyDrive/PongDeterministic-v4-Dueling-Only/mean_rewards\"\n",
        "data_file_path = os.path.join(rewards_path, \"mean_rewards_3283_1838.pkl\")\n",
        "with open(data_file_path, 'rb') as f:\n",
        "        mean_episode_rewards = dill.load(f)"
      ],
      "metadata": {
        "id": "yKb8uyl8s-Hp"
      },
      "execution_count": null,
      "outputs": []
    },
    {
      "cell_type": "code",
      "source": [
        "plt.plot(mean_episode_rewards)\n",
        "#plt.legend()\n",
        "plt.title(\"Pong Dueling Q-Network Mean rewards \")\n",
        "plt.xlabel('frames')#, fontsize=18)\n",
        "plt.ylabel('mean rewards')#, fontsize=16)\n",
        "plt.show()\n"
      ],
      "metadata": {
        "colab": {
          "base_uri": "https://localhost:8080/",
          "height": 295
        },
        "id": "iTVpiZZztL6R",
        "outputId": "3edcaafd-47ea-4a94-9235-11813526ac82"
      },
      "execution_count": null,
      "outputs": [
        {
          "output_type": "display_data",
          "data": {
            "text/plain": [
              "<Figure size 432x288 with 1 Axes>"
            ],
            "image/png": "[encoded data removed]"
          },
          "metadata": {
            "needs_background": "light"
          }
        }
      ]
    },
    {
      "cell_type": "code",
      "source": [
        "mean_episode_rewards_dueling = mean_episode_rewards"
      ],
      "metadata": {
        "id": "SX99gliAtQHp"
      },
      "execution_count": null,
      "outputs": []
    },
    {
      "cell_type": "markdown",
      "source": [
        "# Vanilla DQN plots"
      ],
      "metadata": {
        "id": "aFPdbJictV7N"
      }
    },
    {
      "cell_type": "code",
      "source": [
        "!ls /content/drive/MyDrive/PongDeterministic-v4-DQN/mean_rewards"
      ],
      "metadata": {
        "colab": {
          "base_uri": "https://localhost:8080/"
        },
        "id": "9yB0-9AKtVMp",
        "outputId": "c0d8eb02-162d-4a96-ec93-ea7d4e7ad88d"
      },
      "execution_count": null,
      "outputs": [
        {
          "output_type": "stream",
          "name": "stdout",
          "text": [
            "mean_rewards_0_1900.pkl      mean_rewards_2283_-22.pkl\n",
            "mean_rewards_1000_-1954.pkl  mean_rewards_2604_68.pkl\n",
            "mean_rewards_1054_-1898.pkl  mean_rewards_2611_171.pkl\n",
            "mean_rewards_1108_-1811.pkl  mean_rewards_2622_258.pkl\n",
            "mean_rewards_1132_-1727.pkl  mean_rewards_2630_352.pkl\n",
            "mean_rewards_1230_-1644.pkl  mean_rewards_2683_451.pkl\n",
            "mean_rewards_1247_-1563.pkl  mean_rewards_2687_553.pkl\n",
            "mean_rewards_1263_-1480.pkl  mean_rewards_2692_640.pkl\n",
            "mean_rewards_1328_-1394.pkl  mean_rewards_2700_722.pkl\n",
            "mean_rewards_1362_-1309.pkl  mean_rewards_2709_805.pkl\n",
            "mean_rewards_1380_-1224.pkl  mean_rewards_2715_886.pkl\n",
            "mean_rewards_1390_-1143.pkl  mean_rewards_2722_977.pkl\n",
            "mean_rewards_1981_-1061.pkl  mean_rewards_2734_1059.pkl\n",
            "mean_rewards_2000_-1092.pkl  mean_rewards_3000_923.pkl\n",
            "mean_rewards_2145_-978.pkl   mean_rewards_3007_1145.pkl\n",
            "mean_rewards_2151_-890.pkl   mean_rewards_3018_1227.pkl\n",
            "mean_rewards_2156_-797.pkl   mean_rewards_3039_1314.pkl\n",
            "mean_rewards_2161_-709.pkl   mean_rewards_3657_1395.pkl\n",
            "mean_rewards_2165_-618.pkl   mean_rewards_3728_1486.pkl\n",
            "mean_rewards_2221_-531.pkl   mean_rewards_3866_1575.pkl\n",
            "mean_rewards_2228_-449.pkl   mean_rewards_3912_1657.pkl\n",
            "mean_rewards_2244_-369.pkl   mean_rewards_4000_1554.pkl\n",
            "mean_rewards_2259_-288.pkl   mean_rewards_4149_1738.pkl\n",
            "mean_rewards_2268_-196.pkl   mean_rewards_4554_1820.pkl\n",
            "mean_rewards_2277_-107.pkl\n"
          ]
        }
      ]
    },
    {
      "cell_type": "code",
      "source": [
        "rewards_path = \"/content/drive/MyDrive/PongDeterministic-v4-DQN/mean_rewards\"\n",
        "data_file_path = os.path.join(rewards_path, \"mean_rewards_4554_1820.pkl\")\n",
        "with open(data_file_path, 'rb') as f:\n",
        "        mean_episode_rewards = dill.load(f)"
      ],
      "metadata": {
        "id": "sLN3OSMjtgjS"
      },
      "execution_count": null,
      "outputs": []
    },
    {
      "cell_type": "code",
      "source": [
        "plt.plot(mean_episode_rewards)\n",
        "#plt.legend()\n",
        "plt.title(\"Pong Vanilla Q-Network Mean rewards \")\n",
        "plt.xlabel('frames')#, fontsize=18)\n",
        "plt.ylabel('mean rewards')#, fontsize=16)\n",
        "plt.show()\n"
      ],
      "metadata": {
        "colab": {
          "base_uri": "https://localhost:8080/",
          "height": 295
        },
        "id": "Q3BuVmbxtov2",
        "outputId": "76c8f07f-c927-4c89-da05-42d842f45456"
      },
      "execution_count": null,
      "outputs": [
        {
          "output_type": "display_data",
          "data": {
            "text/plain": [
              "<Figure size 432x288 with 1 Axes>"
            ],
            "image/png": "[encoded data removed]"
          },
          "metadata": {
            "needs_background": "light"
          }
        }
      ]
    },
    {
      "cell_type": "code",
      "source": [
        "mean_episode_rewards_dqn = mean_episode_rewards"
      ],
      "metadata": {
        "id": "ehWQJg2Ftram"
      },
      "execution_count": null,
      "outputs": []
    },
    {
      "cell_type": "markdown",
      "source": [
        "# Ablation: All plots together"
      ],
      "metadata": {
        "id": "7xY5c48Ktx0K"
      }
    },
    {
      "cell_type": "code",
      "source": [
        "N = 3500"
      ],
      "metadata": {
        "id": "EfafjoF7vBMf"
      },
      "execution_count": null,
      "outputs": []
    },
    {
      "cell_type": "code",
      "source": [
        "plt.plot(mean_episode_rewards_dqn[:N], label=\"DQN\")\n",
        "plt.plot(mean_episode_rewards_ddqn[:N], label=\"DDQN\")\n",
        "plt.plot(mean_episode_rewards_dueling, label=\"Dueling\")\n",
        "plt.plot(mean_episode_rewards_dueling_ddqn[:N], label=\"Dueling DDQN\")\n",
        "\n",
        "plt.title('ablation study')\n",
        "\n",
        "plt.legend(loc='best') \n",
        "plt.xlabel('episodes')#, fontsize=18)\n",
        "plt.ylabel('mean rewards')#, fontsize=16)\n",
        "plt.show()\n"
      ],
      "metadata": {
        "colab": {
          "base_uri": "https://localhost:8080/",
          "height": 295
        },
        "id": "1Szj8wqItwCh",
        "outputId": "174164c8-2b50-4748-e627-566ac0898fcc"
      },
      "execution_count": null,
      "outputs": [
        {
          "output_type": "display_data",
          "data": {
            "text/plain": [
              "<Figure size 432x288 with 1 Axes>"
            ],
            "image/png": "[encoded data removed]"
          },
          "metadata": {
            "needs_background": "light"
          }
        }
      ]
    },
    {
      "cell_type": "code",
      "source": [
        "len(mean_episode_rewards_dqn)"
      ],
      "metadata": {
        "colab": {
          "base_uri": "https://localhost:8080/"
        },
        "id": "2uxb2Mslu-oY",
        "outputId": "b6343d9e-6bd4-46b8-e590-9ca2a27b8ee0"
      },
      "execution_count": null,
      "outputs": [
        {
          "output_type": "execute_result",
          "data": {
            "text/plain": [
              "4555"
            ]
          },
          "metadata": {},
          "execution_count": 73
        }
      ]
    },
    {
      "cell_type": "code",
      "source": [
        ""
      ],
      "metadata": {
        "id": "wQUhme2VumLo"
      },
      "execution_count": null,
      "outputs": []
    }
  ],
  "metadata": {
    "colab": {
      "collapsed_sections": [],
      "name": "Pong Dueling DDQN- Submit.ipynb",
      "provenance": []
    },
    "kernelspec": {
      "display_name": "Python 3",
      "name": "python3"
    },
    "language_info": {
      "name": "python"
    }
  },
  "nbformat": 4,
  "nbformat_minor": 0
}